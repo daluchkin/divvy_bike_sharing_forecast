{
 "cells": [
  {
   "cell_type": "markdown",
   "id": "498ce458-e94d-4d62-bda6-6087df0a3210",
   "metadata": {},
   "source": [
    "[__<< Initial Data Exploration__](./01_Divvy_initial_data_exploration.ipynb) | [__Home__](../README.md) | [__Exploratory Data Analysis >>__](./03_Divvy_exploratory_data_analysis.ipynb)\n",
    "\n",
    "# Divvy: Bike Sharing Forecast\n",
    "## Data Cleaning\n",
    "\n",
    "__Dataset:__ [Divvy Data](https://divvybikes.com/system-data) \\\n",
    "__Author:__ [Dmitry Luchkin](https://www.linkedin.com/in/dmitry-luchkin/) \\\n",
    "__Date:__ March 2025"
   ]
  },
  {
   "cell_type": "markdown",
   "id": "48f262ef-6ed2-4dc2-9a1d-1e8f71afa7bc",
   "metadata": {},
   "source": [
    "### Goals/Objectives <a name=\"objectives\"></a>\n",
    "\n",
    "- Identify and address missing values (e.g., removal, imputation).\n",
    "- Convert columns to appropriate data types (e.g., dates, categories).\n",
    "- Identify and analyze outliers in the dataset.\n",
    "- Identify and remove duplicate records."
   ]
  },
  {
   "cell_type": "markdown",
   "id": "1a774036-9eed-4842-9029-65949ea68bbe",
   "metadata": {},
   "source": [
    "### Notebooks <a class=\"anchor\" name='notebooks'></a>\n",
    "\n",
    "+ [Initial Data Exploration](./01_Divvy_data_exploration.ipynb)\n",
    "+ __[Data Cleaning](./02_Divvy_data_cleaning.ipynb)__\n",
    "+ [Exploratory Data Analysis](./03_Divvy_exploratory_data_analysis.ipynb)\n",
    "+ [Feature Engineering](./04_Divvy_feature_engineering.ipynb)\n",
    "+ [Modeling & Validation](./05_Divvy_modeling.ipynb)"
   ]
  },
  {
   "cell_type": "markdown",
   "id": "f86b950e-799c-4bfd-8bdc-c5c98cb3d509",
   "metadata": {},
   "source": [
    "### Import Libraries <a name='import-libraries'></a>"
   ]
  },
  {
   "cell_type": "code",
   "execution_count": 1,
   "id": "4925e3cc-7b0d-4274-81d4-2600f68c2bdd",
   "metadata": {},
   "outputs": [],
   "source": [
    "import datetime\n",
    "import sys\n",
    "import re\n",
    "import pickle\n",
    "\n",
    "import pandas as pd\n",
    "import numpy as np\n",
    "import statsmodels as sm\n",
    "import matplotlib\n",
    "import matplotlib.pyplot as plt\n",
    "import seaborn as sns\n",
    "import warnings\n",
    "warnings.simplefilter(action='ignore')\n",
    "\n",
    "sys.path.append('../02_scripts/')\n",
    "\n",
    "%matplotlib inline"
   ]
  },
  {
   "cell_type": "markdown",
   "id": "2b1966d8-06c3-4508-b7b9-803b5b20da41",
   "metadata": {},
   "source": [
    "### Notebook Setup <a name='notebook-setup'></a>"
   ]
  },
  {
   "cell_type": "code",
   "execution_count": 2,
   "id": "2fb0a029-a0ca-4ad7-86b1-0267b7783a0b",
   "metadata": {},
   "outputs": [],
   "source": [
    "# Pandas settings\n",
    "pd.options.display.max_rows = 20\n",
    "pd.options.display.max_columns = None\n",
    "pd.options.display.max_colwidth = 60\n",
    "pd.options.display.float_format = '{:,.4f}'.format\n",
    "\n",
    "# Visualization settings\n",
    "from matplotlib import rcParams\n",
    "plt.style.use('fivethirtyeight')\n",
    "rcParams['figure.figsize'] = (16, 5)   \n",
    "rcParams['axes.spines.right'] = False\n",
    "rcParams['axes.spines.top'] = False\n",
    "rcParams['font.size'] = 12\n",
    "rcParams['savefig.dpi'] = 300\n",
    "plt.rc('xtick', labelsize=11)\n",
    "plt.rc('ytick', labelsize=11)\n",
    "%config InlineBackend.figure_format = 'retina'"
   ]
  },
  {
   "cell_type": "code",
   "execution_count": 3,
   "id": "bee0aa10-73a6-4e52-bf71-3690ae80f5b4",
   "metadata": {},
   "outputs": [],
   "source": [
    "from IPython.display import Markdown\n",
    "from IPython.core.magic import register_cell_magic\n",
    "\n",
    "@register_cell_magic\n",
    "def markdown(line, cell):\n",
    "    return Markdown(cell.format(**globals()))"
   ]
  },
  {
   "cell_type": "markdown",
   "id": "66f7aab7-4e96-4e65-9aaa-aa98629311e9",
   "metadata": {},
   "source": [
    "### ToDo's <a name='todos'></a>"
   ]
  },
  {
   "cell_type": "code",
   "execution_count": 4,
   "id": "34b2baaa-7a39-4b17-954c-a0851f5d0b10",
   "metadata": {},
   "outputs": [
    {
     "name": "stdout",
     "output_type": "stream",
     "text": [
      "----- TASKS FROM PREVIOUS PHASE -----\n",
      "TODO: Analyze uniqueness of ride_id\n",
      "TODO: Convert started_at and ended_at to datatime\n",
      "TODO: Convert rideable_type and member_casual to category\n",
      "TODO: Handle missing values in end_station_id, end_station_name, start_station_id, start_station_name, end_lat, end_lng\n"
     ]
    }
   ],
   "source": [
    "# get all tasks from the previous phase\n",
    "\n",
    "sys.path.append('../02_scripts/')\n",
    "from todo_list import extract_todo_patterns\n",
    "\n",
    "print(f'{'-'*5} TASKS FROM PREVIOUS PHASE {'-'*5}')\n",
    "for todo in extract_todo_patterns('./01_Divvy_initial_data_exploration.ipynb'):\n",
    "    print(f'TODO: {todo}')"
   ]
  },
  {
   "cell_type": "markdown",
   "id": "ba4da935-ddc5-417d-a550-a5e473742cbc",
   "metadata": {},
   "source": [
    "### Loading Data <a name='loading-data'></a>"
   ]
  },
  {
   "cell_type": "code",
   "execution_count": 5,
   "id": "d531ea8c-598f-427c-bf7c-06b05f38d27d",
   "metadata": {},
   "outputs": [],
   "source": [
    "# load stored data\n",
    "%store -r data_divvy"
   ]
  },
  {
   "cell_type": "code",
   "execution_count": 6,
   "id": "fa91b9fd-7fee-45ee-a332-d4c45c531154",
   "metadata": {},
   "outputs": [],
   "source": [
    "data = data_divvy"
   ]
  },
  {
   "cell_type": "code",
   "execution_count": 7,
   "id": "d6cdc8d7-fabb-476b-a10e-fdc169161f48",
   "metadata": {},
   "outputs": [],
   "source": [
    "# remove stored data\n",
    "%store -d data_divvy"
   ]
  },
  {
   "cell_type": "code",
   "execution_count": 8,
   "id": "46b90cf9-82cf-4e5e-9439-6869b8e60843",
   "metadata": {},
   "outputs": [
    {
     "data": {
      "text/html": [
       "<div>\n",
       "<style scoped>\n",
       "    .dataframe tbody tr th:only-of-type {\n",
       "        vertical-align: middle;\n",
       "    }\n",
       "\n",
       "    .dataframe tbody tr th {\n",
       "        vertical-align: top;\n",
       "    }\n",
       "\n",
       "    .dataframe thead th {\n",
       "        text-align: right;\n",
       "    }\n",
       "</style>\n",
       "<table border=\"1\" class=\"dataframe\">\n",
       "  <thead>\n",
       "    <tr style=\"text-align: right;\">\n",
       "      <th></th>\n",
       "      <th>ride_id</th>\n",
       "      <th>rideable_type</th>\n",
       "      <th>started_at</th>\n",
       "      <th>ended_at</th>\n",
       "      <th>start_station_name</th>\n",
       "      <th>start_station_id</th>\n",
       "      <th>end_station_name</th>\n",
       "      <th>end_station_id</th>\n",
       "      <th>start_lat</th>\n",
       "      <th>start_lng</th>\n",
       "      <th>end_lat</th>\n",
       "      <th>end_lng</th>\n",
       "      <th>member_casual</th>\n",
       "    </tr>\n",
       "  </thead>\n",
       "  <tbody>\n",
       "    <tr>\n",
       "      <th>0</th>\n",
       "      <td>BD0A6FF6FFF9B921</td>\n",
       "      <td>electric_bike</td>\n",
       "      <td>2020-11-01 13:36:00</td>\n",
       "      <td>2020-11-01 13:45:40</td>\n",
       "      <td>Dearborn St &amp; Erie St</td>\n",
       "      <td>110.0000</td>\n",
       "      <td>St. Clair St &amp; Erie St</td>\n",
       "      <td>211.0000</td>\n",
       "      <td>41.8942</td>\n",
       "      <td>-87.6291</td>\n",
       "      <td>41.8944</td>\n",
       "      <td>-87.6234</td>\n",
       "      <td>casual</td>\n",
       "    </tr>\n",
       "    <tr>\n",
       "      <th>1</th>\n",
       "      <td>96A7A7A4BDE4F82D</td>\n",
       "      <td>electric_bike</td>\n",
       "      <td>2020-11-01 10:03:26</td>\n",
       "      <td>2020-11-01 10:14:45</td>\n",
       "      <td>Franklin St &amp; Illinois St</td>\n",
       "      <td>672.0000</td>\n",
       "      <td>Noble St &amp; Milwaukee Ave</td>\n",
       "      <td>29.0000</td>\n",
       "      <td>41.8910</td>\n",
       "      <td>-87.6353</td>\n",
       "      <td>41.9007</td>\n",
       "      <td>-87.6625</td>\n",
       "      <td>casual</td>\n",
       "    </tr>\n",
       "    <tr>\n",
       "      <th>2</th>\n",
       "      <td>C61526D06582BDC5</td>\n",
       "      <td>electric_bike</td>\n",
       "      <td>2020-11-01 00:34:05</td>\n",
       "      <td>2020-11-01 01:03:06</td>\n",
       "      <td>Lake Shore Dr &amp; Monroe St</td>\n",
       "      <td>76.0000</td>\n",
       "      <td>Federal St &amp; Polk St</td>\n",
       "      <td>41.0000</td>\n",
       "      <td>41.8810</td>\n",
       "      <td>-87.6168</td>\n",
       "      <td>41.8721</td>\n",
       "      <td>-87.6296</td>\n",
       "      <td>casual</td>\n",
       "    </tr>\n",
       "    <tr>\n",
       "      <th>3</th>\n",
       "      <td>E533E89C32080B9E</td>\n",
       "      <td>electric_bike</td>\n",
       "      <td>2020-11-01 00:45:16</td>\n",
       "      <td>2020-11-01 00:54:31</td>\n",
       "      <td>Leavitt St &amp; Chicago Ave</td>\n",
       "      <td>659.0000</td>\n",
       "      <td>Stave St &amp; Armitage Ave</td>\n",
       "      <td>185.0000</td>\n",
       "      <td>41.8955</td>\n",
       "      <td>-87.6820</td>\n",
       "      <td>41.9177</td>\n",
       "      <td>-87.6914</td>\n",
       "      <td>casual</td>\n",
       "    </tr>\n",
       "    <tr>\n",
       "      <th>4</th>\n",
       "      <td>1C9F4EF18C168C60</td>\n",
       "      <td>electric_bike</td>\n",
       "      <td>2020-11-01 15:43:25</td>\n",
       "      <td>2020-11-01 16:16:52</td>\n",
       "      <td>Buckingham Fountain</td>\n",
       "      <td>2.0000</td>\n",
       "      <td>Buckingham Fountain</td>\n",
       "      <td>2.0000</td>\n",
       "      <td>41.8765</td>\n",
       "      <td>-87.6204</td>\n",
       "      <td>41.8764</td>\n",
       "      <td>-87.6203</td>\n",
       "      <td>casual</td>\n",
       "    </tr>\n",
       "  </tbody>\n",
       "</table>\n",
       "</div>"
      ],
      "text/plain": [
       "            ride_id  rideable_type           started_at             ended_at  \\\n",
       "0  BD0A6FF6FFF9B921  electric_bike  2020-11-01 13:36:00  2020-11-01 13:45:40   \n",
       "1  96A7A7A4BDE4F82D  electric_bike  2020-11-01 10:03:26  2020-11-01 10:14:45   \n",
       "2  C61526D06582BDC5  electric_bike  2020-11-01 00:34:05  2020-11-01 01:03:06   \n",
       "3  E533E89C32080B9E  electric_bike  2020-11-01 00:45:16  2020-11-01 00:54:31   \n",
       "4  1C9F4EF18C168C60  electric_bike  2020-11-01 15:43:25  2020-11-01 16:16:52   \n",
       "\n",
       "          start_station_name start_station_id          end_station_name  \\\n",
       "0      Dearborn St & Erie St         110.0000    St. Clair St & Erie St   \n",
       "1  Franklin St & Illinois St         672.0000  Noble St & Milwaukee Ave   \n",
       "2  Lake Shore Dr & Monroe St          76.0000      Federal St & Polk St   \n",
       "3   Leavitt St & Chicago Ave         659.0000   Stave St & Armitage Ave   \n",
       "4        Buckingham Fountain           2.0000       Buckingham Fountain   \n",
       "\n",
       "  end_station_id  start_lat  start_lng  end_lat  end_lng member_casual  \n",
       "0       211.0000    41.8942   -87.6291  41.8944 -87.6234        casual  \n",
       "1        29.0000    41.8910   -87.6353  41.9007 -87.6625        casual  \n",
       "2        41.0000    41.8810   -87.6168  41.8721 -87.6296        casual  \n",
       "3       185.0000    41.8955   -87.6820  41.9177 -87.6914        casual  \n",
       "4         2.0000    41.8765   -87.6204  41.8764 -87.6203        casual  "
      ]
     },
     "execution_count": 8,
     "metadata": {},
     "output_type": "execute_result"
    }
   ],
   "source": [
    "data.head()"
   ]
  },
  {
   "cell_type": "code",
   "execution_count": 9,
   "id": "f82025f9-fe78-4090-9cf0-93655806b8a5",
   "metadata": {},
   "outputs": [
    {
     "name": "stdout",
     "output_type": "stream",
     "text": [
      "<class 'pandas.core.frame.DataFrame'>\n",
      "RangeIndex: 26384908 entries, 0 to 26384907\n",
      "Data columns (total 13 columns):\n",
      " #   Column              Dtype  \n",
      "---  ------              -----  \n",
      " 0   ride_id             object \n",
      " 1   rideable_type       object \n",
      " 2   started_at          object \n",
      " 3   ended_at            object \n",
      " 4   start_station_name  object \n",
      " 5   start_station_id    object \n",
      " 6   end_station_name    object \n",
      " 7   end_station_id      object \n",
      " 8   start_lat           float64\n",
      " 9   start_lng           float64\n",
      " 10  end_lat             float64\n",
      " 11  end_lng             float64\n",
      " 12  member_casual       object \n",
      "dtypes: float64(4), object(9)\n",
      "memory usage: 2.6+ GB\n"
     ]
    }
   ],
   "source": [
    "data.info()"
   ]
  },
  {
   "cell_type": "markdown",
   "id": "c8388112-5de2-406d-a489-df3386a735ae",
   "metadata": {},
   "source": [
    "### Analizing of Variables <a name='analyzing-variables'></a>"
   ]
  },
  {
   "cell_type": "markdown",
   "id": "3a16848b-5819-49df-94d2-fd02f724aea9",
   "metadata": {},
   "source": [
    "#### `ride_id`"
   ]
  },
  {
   "cell_type": "code",
   "execution_count": 10,
   "id": "19952f64-28f5-47ff-826c-c55ae35db88f",
   "metadata": {},
   "outputs": [
    {
     "name": "stdout",
     "output_type": "stream",
     "text": [
      "Number of non unique ID: 420\n"
     ]
    },
    {
     "data": {
      "text/plain": [
       "ride_id\n",
       "011C8EF97AB0F30D    2\n",
       "01406457A85B0AFF    2\n",
       "021A73F8C18B932D    2\n",
       "02606FBC7F8537EE    2\n",
       "0334987B57662109    2\n",
       "dtype: int64"
      ]
     },
     "execution_count": 10,
     "metadata": {},
     "output_type": "execute_result"
    }
   ],
   "source": [
    "# TODO: Analyze uniqueness of ride_id\n",
    "num_unique = data.groupby(['ride_id']).size()\n",
    "print(f\"Number of non unique ID: {len(num_unique[num_unique > 1])}\")\n",
    "num_unique[num_unique > 1][:5]"
   ]
  },
  {
   "cell_type": "code",
   "execution_count": 11,
   "id": "d1ddca4c-0184-4a03-b4c2-8f6da22abf28",
   "metadata": {},
   "outputs": [
    {
     "data": {
      "text/html": [
       "<div>\n",
       "<style scoped>\n",
       "    .dataframe tbody tr th:only-of-type {\n",
       "        vertical-align: middle;\n",
       "    }\n",
       "\n",
       "    .dataframe tbody tr th {\n",
       "        vertical-align: top;\n",
       "    }\n",
       "\n",
       "    .dataframe thead th {\n",
       "        text-align: right;\n",
       "    }\n",
       "</style>\n",
       "<table border=\"1\" class=\"dataframe\">\n",
       "  <thead>\n",
       "    <tr style=\"text-align: right;\">\n",
       "      <th></th>\n",
       "      <th>ride_id</th>\n",
       "      <th>rideable_type</th>\n",
       "      <th>started_at</th>\n",
       "      <th>ended_at</th>\n",
       "      <th>start_station_name</th>\n",
       "      <th>start_station_id</th>\n",
       "      <th>end_station_name</th>\n",
       "      <th>end_station_id</th>\n",
       "      <th>start_lat</th>\n",
       "      <th>start_lng</th>\n",
       "      <th>end_lat</th>\n",
       "      <th>end_lng</th>\n",
       "      <th>member_casual</th>\n",
       "    </tr>\n",
       "  </thead>\n",
       "  <tbody>\n",
       "    <tr>\n",
       "      <th>20601370</th>\n",
       "      <td>011C8EF97AB0F30D</td>\n",
       "      <td>classic_bike</td>\n",
       "      <td>2024-05-31 19:45:38.037</td>\n",
       "      <td>2024-06-01 20:45:33.862</td>\n",
       "      <td>Clifton Ave &amp; Armitage Ave</td>\n",
       "      <td>TA1307000163</td>\n",
       "      <td>NaN</td>\n",
       "      <td>NaN</td>\n",
       "      <td>41.9182</td>\n",
       "      <td>-87.6569</td>\n",
       "      <td>NaN</td>\n",
       "      <td>NaN</td>\n",
       "      <td>casual</td>\n",
       "    </tr>\n",
       "    <tr>\n",
       "      <th>23403049</th>\n",
       "      <td>011C8EF97AB0F30D</td>\n",
       "      <td>classic_bike</td>\n",
       "      <td>2024-05-31 19:45:38</td>\n",
       "      <td>2024-06-01 20:45:33</td>\n",
       "      <td>Clifton Ave &amp; Armitage Ave</td>\n",
       "      <td>TA1307000163</td>\n",
       "      <td>NaN</td>\n",
       "      <td>NaN</td>\n",
       "      <td>41.9182</td>\n",
       "      <td>-87.6569</td>\n",
       "      <td>NaN</td>\n",
       "      <td>NaN</td>\n",
       "      <td>casual</td>\n",
       "    </tr>\n",
       "    <tr>\n",
       "      <th>20417703</th>\n",
       "      <td>01406457A85B0AFF</td>\n",
       "      <td>electric_bike</td>\n",
       "      <td>2024-05-31 23:54:59.194</td>\n",
       "      <td>2024-06-01 00:01:47.626</td>\n",
       "      <td>NaN</td>\n",
       "      <td>NaN</td>\n",
       "      <td>Damen Ave &amp; Chicago Ave</td>\n",
       "      <td>13132</td>\n",
       "      <td>41.8900</td>\n",
       "      <td>-87.6700</td>\n",
       "      <td>41.8958</td>\n",
       "      <td>-87.6772</td>\n",
       "      <td>member</td>\n",
       "    </tr>\n",
       "    <tr>\n",
       "      <th>23234868</th>\n",
       "      <td>01406457A85B0AFF</td>\n",
       "      <td>electric_bike</td>\n",
       "      <td>2024-05-31 23:54:59</td>\n",
       "      <td>2024-06-01 00:01:47</td>\n",
       "      <td>NaN</td>\n",
       "      <td>NaN</td>\n",
       "      <td>Damen Ave &amp; Chicago Ave</td>\n",
       "      <td>13132</td>\n",
       "      <td>41.8900</td>\n",
       "      <td>-87.6700</td>\n",
       "      <td>41.8958</td>\n",
       "      <td>-87.6772</td>\n",
       "      <td>member</td>\n",
       "    </tr>\n",
       "    <tr>\n",
       "      <th>106076</th>\n",
       "      <td>021A73F8C18B932D</td>\n",
       "      <td>docked_bike</td>\n",
       "      <td>2020-11-25 16:35:39</td>\n",
       "      <td>2020-11-25 16:48:02</td>\n",
       "      <td>Clark St &amp; Winnemac Ave</td>\n",
       "      <td>325.0000</td>\n",
       "      <td>Ravenswood Ave &amp; Berteau Ave</td>\n",
       "      <td>314.0000</td>\n",
       "      <td>41.9733</td>\n",
       "      <td>-87.6679</td>\n",
       "      <td>41.9579</td>\n",
       "      <td>-87.6736</td>\n",
       "      <td>member</td>\n",
       "    </tr>\n",
       "    <tr>\n",
       "      <th>7169836</th>\n",
       "      <td>021A73F8C18B932D</td>\n",
       "      <td>docked_bike</td>\n",
       "      <td>2020-12-15 12:15:58</td>\n",
       "      <td>2020-11-25 16:48:02</td>\n",
       "      <td>Clark St &amp; Winnemac Ave</td>\n",
       "      <td>TA1309000035</td>\n",
       "      <td>Ravenswood Ave &amp; Berteau Ave</td>\n",
       "      <td>TA1309000018</td>\n",
       "      <td>41.9733</td>\n",
       "      <td>-87.6679</td>\n",
       "      <td>41.9579</td>\n",
       "      <td>-87.6736</td>\n",
       "      <td>member</td>\n",
       "    </tr>\n",
       "  </tbody>\n",
       "</table>\n",
       "</div>"
      ],
      "text/plain": [
       "                   ride_id  rideable_type               started_at  \\\n",
       "20601370  011C8EF97AB0F30D   classic_bike  2024-05-31 19:45:38.037   \n",
       "23403049  011C8EF97AB0F30D   classic_bike      2024-05-31 19:45:38   \n",
       "20417703  01406457A85B0AFF  electric_bike  2024-05-31 23:54:59.194   \n",
       "23234868  01406457A85B0AFF  electric_bike      2024-05-31 23:54:59   \n",
       "106076    021A73F8C18B932D    docked_bike      2020-11-25 16:35:39   \n",
       "7169836   021A73F8C18B932D    docked_bike      2020-12-15 12:15:58   \n",
       "\n",
       "                         ended_at          start_station_name  \\\n",
       "20601370  2024-06-01 20:45:33.862  Clifton Ave & Armitage Ave   \n",
       "23403049      2024-06-01 20:45:33  Clifton Ave & Armitage Ave   \n",
       "20417703  2024-06-01 00:01:47.626                         NaN   \n",
       "23234868      2024-06-01 00:01:47                         NaN   \n",
       "106076        2020-11-25 16:48:02     Clark St & Winnemac Ave   \n",
       "7169836       2020-11-25 16:48:02     Clark St & Winnemac Ave   \n",
       "\n",
       "         start_station_id              end_station_name end_station_id  \\\n",
       "20601370     TA1307000163                           NaN            NaN   \n",
       "23403049     TA1307000163                           NaN            NaN   \n",
       "20417703              NaN       Damen Ave & Chicago Ave          13132   \n",
       "23234868              NaN       Damen Ave & Chicago Ave          13132   \n",
       "106076           325.0000  Ravenswood Ave & Berteau Ave       314.0000   \n",
       "7169836      TA1309000035  Ravenswood Ave & Berteau Ave   TA1309000018   \n",
       "\n",
       "          start_lat  start_lng  end_lat  end_lng member_casual  \n",
       "20601370    41.9182   -87.6569      NaN      NaN        casual  \n",
       "23403049    41.9182   -87.6569      NaN      NaN        casual  \n",
       "20417703    41.8900   -87.6700  41.8958 -87.6772        member  \n",
       "23234868    41.8900   -87.6700  41.8958 -87.6772        member  \n",
       "106076      41.9733   -87.6679  41.9579 -87.6736        member  \n",
       "7169836     41.9733   -87.6679  41.9579 -87.6736        member  "
      ]
     },
     "execution_count": 11,
     "metadata": {},
     "output_type": "execute_result"
    }
   ],
   "source": [
    "data[data['ride_id'].isin(list(num_unique[num_unique > 1][:3].index))].sort_values(by='ride_id')"
   ]
  },
  {
   "cell_type": "code",
   "execution_count": 12,
   "id": "c24b499f-6d13-4482-a84e-8bb6d138fae3",
   "metadata": {},
   "outputs": [
    {
     "data": {
      "text/plain": [
       "420"
      ]
     },
     "execution_count": 12,
     "metadata": {},
     "output_type": "execute_result"
    }
   ],
   "source": [
    "data.duplicated(subset=['ride_id'], keep='last').sum()"
   ]
  },
  {
   "cell_type": "code",
   "execution_count": 13,
   "id": "2fbd29bd-c9b1-4fe1-ac8d-1358ca82f09a",
   "metadata": {},
   "outputs": [],
   "source": [
    "# drop duplicated ride_id\n",
    "data.drop_duplicates(subset=['ride_id'], keep='first', inplace=True)"
   ]
  },
  {
   "cell_type": "code",
   "execution_count": 14,
   "id": "0bb9e633-95e1-408f-a61f-5195f2c5e978",
   "metadata": {},
   "outputs": [],
   "source": [
    "assert data.duplicated(subset=['ride_id']).sum() == 0, \"There are still duplicated ride_id's in the dataset.\""
   ]
  },
  {
   "cell_type": "markdown",
   "id": "eb0f455e-1343-4af1-b3a4-bd7760dbc627",
   "metadata": {},
   "source": [
    "#### `rideable_type`"
   ]
  },
  {
   "cell_type": "code",
   "execution_count": 15,
   "id": "82fa0661-ba4d-4891-90a6-c63bab05a57b",
   "metadata": {},
   "outputs": [
    {
     "data": {
      "text/plain": [
       "rideable_type\n",
       "classic_bike        11354379\n",
       "docked_bike          3534217\n",
       "electric_bike       11351555\n",
       "electric_scooter      144337\n",
       "dtype: int64"
      ]
     },
     "execution_count": 15,
     "metadata": {},
     "output_type": "execute_result"
    }
   ],
   "source": [
    "data.groupby(['rideable_type']).size()"
   ]
  },
  {
   "cell_type": "code",
   "execution_count": 16,
   "id": "b22dec2f-efb4-4494-b6b1-5fd051f0fb05",
   "metadata": {},
   "outputs": [],
   "source": [
    "# TODO: Convert rideable_type and member_casual to category\n",
    "data['rideable_type'] = data['rideable_type'].astype('category')"
   ]
  },
  {
   "cell_type": "code",
   "execution_count": 17,
   "id": "20da86c6-d9eb-421b-ad96-b02c044b2dd4",
   "metadata": {},
   "outputs": [],
   "source": [
    "assert isinstance(data['rideable_type'].dtype, pd.api.types.CategoricalDtype), '`rideable_type` variable is not a categorical type.'"
   ]
  },
  {
   "cell_type": "markdown",
   "id": "867ff389-5b2a-4300-9bb5-664f78cde8f7",
   "metadata": {},
   "source": [
    "#### `started_at` and `ended_at`"
   ]
  },
  {
   "cell_type": "code",
   "execution_count": 18,
   "id": "5cb2c794-f821-49f6-a0ae-df312155904a",
   "metadata": {},
   "outputs": [],
   "source": [
    "# TODO: Convert started_at and ended_at to datatime"
   ]
  },
  {
   "cell_type": "code",
   "execution_count": 19,
   "id": "5f7788d1-d31d-4d5f-b8ac-a5826ef479a8",
   "metadata": {},
   "outputs": [],
   "source": [
    "data['started_at'] = pd.to_datetime(data['started_at'], format='mixed')\n",
    "data['ended_at'] = pd.to_datetime(data['ended_at'], format='mixed')"
   ]
  },
  {
   "cell_type": "code",
   "execution_count": 20,
   "id": "832838d8-05c1-4ab0-ba14-032988a8a072",
   "metadata": {},
   "outputs": [],
   "source": [
    "assert pd.api.types.is_datetime64_dtype(data['started_at'])\n",
    "assert pd.api.types.is_datetime64_dtype(data['ended_at'])"
   ]
  },
  {
   "cell_type": "markdown",
   "id": "458138c6-f361-494f-a74e-a628e7e57eaa",
   "metadata": {},
   "source": [
    "#### `start_station_id`, `start_station_name`, `end_station_id`, `end_station_name`, `end_lat` and `end_lng`"
   ]
  },
  {
   "cell_type": "code",
   "execution_count": 21,
   "id": "bc91b74a-112c-49c2-a038-4effc433eeb7",
   "metadata": {},
   "outputs": [],
   "source": [
    "# TODO: Handle missing values in end_station_id, end_station_name, start_station_id, start_station_name, end_lat, end_lng"
   ]
  },
  {
   "cell_type": "code",
   "execution_count": 22,
   "id": "c869028b-df05-467f-9eb4-0978d1498de8",
   "metadata": {},
   "outputs": [
    {
     "data": {
      "text/html": [
       "<div>\n",
       "<style scoped>\n",
       "    .dataframe tbody tr th:only-of-type {\n",
       "        vertical-align: middle;\n",
       "    }\n",
       "\n",
       "    .dataframe tbody tr th {\n",
       "        vertical-align: top;\n",
       "    }\n",
       "\n",
       "    .dataframe thead th {\n",
       "        text-align: right;\n",
       "    }\n",
       "</style>\n",
       "<table border=\"1\" class=\"dataframe\">\n",
       "  <thead>\n",
       "    <tr style=\"text-align: right;\">\n",
       "      <th></th>\n",
       "      <th>start_station_id</th>\n",
       "      <th>start_station_name</th>\n",
       "      <th>end_station_id</th>\n",
       "      <th>end_station_name</th>\n",
       "      <th>end_lat</th>\n",
       "      <th>end_lng</th>\n",
       "    </tr>\n",
       "    <tr>\n",
       "      <th>rideable_type</th>\n",
       "      <th></th>\n",
       "      <th></th>\n",
       "      <th></th>\n",
       "      <th></th>\n",
       "      <th></th>\n",
       "      <th></th>\n",
       "    </tr>\n",
       "  </thead>\n",
       "  <tbody>\n",
       "    <tr>\n",
       "      <th>classic_bike</th>\n",
       "      <td>102</td>\n",
       "      <td>34</td>\n",
       "      <td>25681</td>\n",
       "      <td>25603</td>\n",
       "      <td>19816</td>\n",
       "      <td>19816</td>\n",
       "    </tr>\n",
       "    <tr>\n",
       "      <th>docked_bike</th>\n",
       "      <td>0</td>\n",
       "      <td>0</td>\n",
       "      <td>9135</td>\n",
       "      <td>9135</td>\n",
       "      <td>9249</td>\n",
       "      <td>9249</td>\n",
       "    </tr>\n",
       "    <tr>\n",
       "      <th>electric_bike</th>\n",
       "      <td>3501177</td>\n",
       "      <td>3500490</td>\n",
       "      <td>3672013</td>\n",
       "      <td>3671489</td>\n",
       "      <td>0</td>\n",
       "      <td>0</td>\n",
       "    </tr>\n",
       "    <tr>\n",
       "      <th>electric_scooter</th>\n",
       "      <td>67649</td>\n",
       "      <td>67649</td>\n",
       "      <td>70340</td>\n",
       "      <td>70340</td>\n",
       "      <td>0</td>\n",
       "      <td>0</td>\n",
       "    </tr>\n",
       "  </tbody>\n",
       "</table>\n",
       "</div>"
      ],
      "text/plain": [
       "                  start_station_id  start_station_name  end_station_id  \\\n",
       "rideable_type                                                            \n",
       "classic_bike                   102                  34           25681   \n",
       "docked_bike                      0                   0            9135   \n",
       "electric_bike              3501177             3500490         3672013   \n",
       "electric_scooter             67649               67649           70340   \n",
       "\n",
       "                  end_station_name  end_lat  end_lng  \n",
       "rideable_type                                         \n",
       "classic_bike                 25603    19816    19816  \n",
       "docked_bike                   9135     9249     9249  \n",
       "electric_bike              3671489        0        0  \n",
       "electric_scooter             70340        0        0  "
      ]
     },
     "execution_count": 22,
     "metadata": {},
     "output_type": "execute_result"
    }
   ],
   "source": [
    "data[['start_station_id', \n",
    "      'start_station_name', \n",
    "      'end_station_id', \n",
    "      'end_station_name', \n",
    "      'end_lat', \n",
    "      'end_lng']].isna().groupby(data['rideable_type'], observed=True).sum()"
   ]
  },
  {
   "cell_type": "markdown",
   "id": "d8406cea-cbf4-47dc-a850-58e30c7a6cea",
   "metadata": {},
   "source": [
    "According to the bike sharing service rules:\n",
    "- __Electric bikes__ (_electric_bike_) can be parked both at Divvy dock stations and at one of over 600 public racks or posts.\n",
    "- __Classic bikes__ (_classic_bike_) and docked bikes (_docked_bike_) must be returned to Divvy dock stations to finish the ride."
   ]
  },
  {
   "cell_type": "code",
   "execution_count": 23,
   "id": "c95644dd-dd09-464a-a3a3-f98a06b9379e",
   "metadata": {},
   "outputs": [
    {
     "data": {
      "text/html": [
       "<div>\n",
       "<style scoped>\n",
       "    .dataframe tbody tr th:only-of-type {\n",
       "        vertical-align: middle;\n",
       "    }\n",
       "\n",
       "    .dataframe tbody tr th {\n",
       "        vertical-align: top;\n",
       "    }\n",
       "\n",
       "    .dataframe thead tr th {\n",
       "        text-align: left;\n",
       "    }\n",
       "\n",
       "    .dataframe thead tr:last-of-type th {\n",
       "        text-align: right;\n",
       "    }\n",
       "</style>\n",
       "<table border=\"1\" class=\"dataframe\">\n",
       "  <thead>\n",
       "    <tr>\n",
       "      <th></th>\n",
       "      <th colspan=\"2\" halign=\"left\">started_at</th>\n",
       "      <th colspan=\"2\" halign=\"left\">ended_at</th>\n",
       "    </tr>\n",
       "    <tr>\n",
       "      <th></th>\n",
       "      <th>min</th>\n",
       "      <th>max</th>\n",
       "      <th>min</th>\n",
       "      <th>max</th>\n",
       "    </tr>\n",
       "    <tr>\n",
       "      <th>rideable_type</th>\n",
       "      <th></th>\n",
       "      <th></th>\n",
       "      <th></th>\n",
       "      <th></th>\n",
       "    </tr>\n",
       "  </thead>\n",
       "  <tbody>\n",
       "    <tr>\n",
       "      <th>classic_bike</th>\n",
       "      <td>2020-12-02</td>\n",
       "      <td>2024-12-31</td>\n",
       "      <td>2020-12-02</td>\n",
       "      <td>2024-12-31</td>\n",
       "    </tr>\n",
       "    <tr>\n",
       "      <th>docked_bike</th>\n",
       "      <td>2020-01-01</td>\n",
       "      <td>2023-08-30</td>\n",
       "      <td>2020-01-01</td>\n",
       "      <td>2023-10-10</td>\n",
       "    </tr>\n",
       "    <tr>\n",
       "      <th>electric_bike</th>\n",
       "      <td>2020-07-13</td>\n",
       "      <td>2024-12-31</td>\n",
       "      <td>2020-07-13</td>\n",
       "      <td>2024-12-31</td>\n",
       "    </tr>\n",
       "    <tr>\n",
       "      <th>electric_scooter</th>\n",
       "      <td>2024-08-31</td>\n",
       "      <td>2024-09-30</td>\n",
       "      <td>2024-09-01</td>\n",
       "      <td>2024-09-30</td>\n",
       "    </tr>\n",
       "  </tbody>\n",
       "</table>\n",
       "</div>"
      ],
      "text/plain": [
       "                  started_at                ended_at            \n",
       "                         min         max         min         max\n",
       "rideable_type                                                   \n",
       "classic_bike      2020-12-02  2024-12-31  2020-12-02  2024-12-31\n",
       "docked_bike       2020-01-01  2023-08-30  2020-01-01  2023-10-10\n",
       "electric_bike     2020-07-13  2024-12-31  2020-07-13  2024-12-31\n",
       "electric_scooter  2024-08-31  2024-09-30  2024-09-01  2024-09-30"
      ]
     },
     "execution_count": 23,
     "metadata": {},
     "output_type": "execute_result"
    }
   ],
   "source": [
    "# usage range per bike type\n",
    "data.groupby(['rideable_type'], observed=True)[['started_at', 'ended_at']].agg(['min', 'max']).map('{:%Y-%m-%d}'.format)"
   ]
  },
  {
   "cell_type": "markdown",
   "id": "403afbf8-377b-488e-8e9f-fe64add4b07f",
   "metadata": {},
   "source": [
    "The first date of usage of Electic Bike is __2020-07-13__ but Classic Bike - __2020-12-02__. The latest date of usage of a docked bike is __2023-10-10__, which could mean that there are no docked bikes available in the service anymore. As both classic bikes and docked bikes have to be docked at the end of the ride and both types are regular bikes, I have united these two categories into one for analysis and forecasting, naming the category \"regular_bike\"."
   ]
  },
  {
   "cell_type": "code",
   "execution_count": 24,
   "id": "d7b38cb1-99fc-4e07-a82a-6247f67475f0",
   "metadata": {},
   "outputs": [],
   "source": [
    "data['bike_type'] = data['rideable_type']\n",
    "data['bike_type'] = data['bike_type'].cat.add_categories(['regular_bike'])\n",
    "data.loc[data['bike_type'].isin(['classic_bike', 'docked_bike']), 'bike_type'] = 'regular_bike'\n",
    "data['bike_type'] = data['bike_type'].cat.remove_unused_categories()"
   ]
  },
  {
   "cell_type": "code",
   "execution_count": 25,
   "id": "578d3dd8-7fad-4196-b44d-11a2fbc7dc36",
   "metadata": {},
   "outputs": [
    {
     "data": {
      "text/plain": [
       "bike_type\n",
       "electric_bike       11_351_555\n",
       "electric_scooter       144_337\n",
       "regular_bike        14_888_596\n",
       "dtype: object"
      ]
     },
     "execution_count": 25,
     "metadata": {},
     "output_type": "execute_result"
    }
   ],
   "source": [
    "data.groupby(['bike_type'], observed=True).size().map('{:_}'.format)"
   ]
  },
  {
   "cell_type": "code",
   "execution_count": 26,
   "id": "8d61a1f4-aefd-433d-b06d-ec8256dfff4f",
   "metadata": {},
   "outputs": [
    {
     "data": {
      "text/html": [
       "<div>\n",
       "<style scoped>\n",
       "    .dataframe tbody tr th:only-of-type {\n",
       "        vertical-align: middle;\n",
       "    }\n",
       "\n",
       "    .dataframe tbody tr th {\n",
       "        vertical-align: top;\n",
       "    }\n",
       "\n",
       "    .dataframe thead th {\n",
       "        text-align: right;\n",
       "    }\n",
       "</style>\n",
       "<table border=\"1\" class=\"dataframe\">\n",
       "  <thead>\n",
       "    <tr style=\"text-align: right;\">\n",
       "      <th></th>\n",
       "      <th>start_station_id</th>\n",
       "      <th>start_station_name</th>\n",
       "      <th>end_station_id</th>\n",
       "      <th>end_station_name</th>\n",
       "      <th>end_lat</th>\n",
       "      <th>end_lng</th>\n",
       "    </tr>\n",
       "    <tr>\n",
       "      <th>bike_type</th>\n",
       "      <th></th>\n",
       "      <th></th>\n",
       "      <th></th>\n",
       "      <th></th>\n",
       "      <th></th>\n",
       "      <th></th>\n",
       "    </tr>\n",
       "  </thead>\n",
       "  <tbody>\n",
       "    <tr>\n",
       "      <th>electric_bike</th>\n",
       "      <td>13.2698</td>\n",
       "      <td>13.2672</td>\n",
       "      <td>13.9173</td>\n",
       "      <td>13.9153</td>\n",
       "      <td>0.0000</td>\n",
       "      <td>0.0000</td>\n",
       "    </tr>\n",
       "    <tr>\n",
       "      <th>electric_scooter</th>\n",
       "      <td>0.2564</td>\n",
       "      <td>0.2564</td>\n",
       "      <td>0.2666</td>\n",
       "      <td>0.2666</td>\n",
       "      <td>0.0000</td>\n",
       "      <td>0.0000</td>\n",
       "    </tr>\n",
       "    <tr>\n",
       "      <th>regular_bike</th>\n",
       "      <td>0.0004</td>\n",
       "      <td>0.0001</td>\n",
       "      <td>0.1320</td>\n",
       "      <td>0.1317</td>\n",
       "      <td>0.1102</td>\n",
       "      <td>0.1102</td>\n",
       "    </tr>\n",
       "  </tbody>\n",
       "</table>\n",
       "</div>"
      ],
      "text/plain": [
       "                  start_station_id  start_station_name  end_station_id  \\\n",
       "bike_type                                                                \n",
       "electric_bike              13.2698             13.2672         13.9173   \n",
       "electric_scooter            0.2564              0.2564          0.2666   \n",
       "regular_bike                0.0004              0.0001          0.1320   \n",
       "\n",
       "                  end_station_name  end_lat  end_lng  \n",
       "bike_type                                             \n",
       "electric_bike              13.9153   0.0000   0.0000  \n",
       "electric_scooter            0.2666   0.0000   0.0000  \n",
       "regular_bike                0.1317   0.1102   0.1102  "
      ]
     },
     "execution_count": 26,
     "metadata": {},
     "output_type": "execute_result"
    }
   ],
   "source": [
    "# percent of missing values per bike type\n",
    "data[['start_station_id', \n",
    "      'start_station_name', \n",
    "      'end_station_id', \n",
    "      'end_station_name', \n",
    "      'end_lat', \n",
    "      'end_lng']].isna().groupby(data['bike_type'], observed=True).sum()/data.shape[0]*100"
   ]
  },
  {
   "cell_type": "markdown",
   "id": "cd5d112c-8bbd-4d8d-a513-4b208d561175",
   "metadata": {},
   "source": [
    "The rides which were not finished correctly for the regular_bikes type constitute only 0.13% of the total count of rides - drop them."
   ]
  },
  {
   "cell_type": "code",
   "execution_count": 27,
   "id": "561bdee4-4588-489f-a8a0-4a6cf5ffb3eb",
   "metadata": {},
   "outputs": [],
   "source": [
    "data.drop(index=data[(data[['start_station_id', \n",
    "      'start_station_name', 'end_station_id', 'end_station_name', 'end_lat', 'end_lng']].isna().any(axis=1)) & \\\n",
    "          (data['bike_type'] == 'regular_bike')].index, inplace=True)"
   ]
  },
  {
   "cell_type": "code",
   "execution_count": 28,
   "id": "f4e9f225-a6d7-46b2-86f5-748b8d02c0e6",
   "metadata": {},
   "outputs": [
    {
     "data": {
      "text/html": [
       "<div>\n",
       "<style scoped>\n",
       "    .dataframe tbody tr th:only-of-type {\n",
       "        vertical-align: middle;\n",
       "    }\n",
       "\n",
       "    .dataframe tbody tr th {\n",
       "        vertical-align: top;\n",
       "    }\n",
       "\n",
       "    .dataframe thead th {\n",
       "        text-align: right;\n",
       "    }\n",
       "</style>\n",
       "<table border=\"1\" class=\"dataframe\">\n",
       "  <thead>\n",
       "    <tr style=\"text-align: right;\">\n",
       "      <th></th>\n",
       "      <th>start_station_id</th>\n",
       "      <th>start_station_name</th>\n",
       "      <th>end_station_id</th>\n",
       "      <th>end_station_name</th>\n",
       "      <th>end_lat</th>\n",
       "      <th>end_lng</th>\n",
       "    </tr>\n",
       "    <tr>\n",
       "      <th>bike_type</th>\n",
       "      <th></th>\n",
       "      <th></th>\n",
       "      <th></th>\n",
       "      <th></th>\n",
       "      <th></th>\n",
       "      <th></th>\n",
       "    </tr>\n",
       "  </thead>\n",
       "  <tbody>\n",
       "    <tr>\n",
       "      <th>electric_bike</th>\n",
       "      <td>13.2875</td>\n",
       "      <td>13.2849</td>\n",
       "      <td>13.9358</td>\n",
       "      <td>13.9338</td>\n",
       "      <td>0.0000</td>\n",
       "      <td>0.0000</td>\n",
       "    </tr>\n",
       "    <tr>\n",
       "      <th>electric_scooter</th>\n",
       "      <td>0.2567</td>\n",
       "      <td>0.2567</td>\n",
       "      <td>0.2670</td>\n",
       "      <td>0.2670</td>\n",
       "      <td>0.0000</td>\n",
       "      <td>0.0000</td>\n",
       "    </tr>\n",
       "    <tr>\n",
       "      <th>regular_bike</th>\n",
       "      <td>0.0000</td>\n",
       "      <td>0.0000</td>\n",
       "      <td>0.0000</td>\n",
       "      <td>0.0000</td>\n",
       "      <td>0.0000</td>\n",
       "      <td>0.0000</td>\n",
       "    </tr>\n",
       "  </tbody>\n",
       "</table>\n",
       "</div>"
      ],
      "text/plain": [
       "                  start_station_id  start_station_name  end_station_id  \\\n",
       "bike_type                                                                \n",
       "electric_bike              13.2875             13.2849         13.9358   \n",
       "electric_scooter            0.2567              0.2567          0.2670   \n",
       "regular_bike                0.0000              0.0000          0.0000   \n",
       "\n",
       "                  end_station_name  end_lat  end_lng  \n",
       "bike_type                                             \n",
       "electric_bike              13.9338   0.0000   0.0000  \n",
       "electric_scooter            0.2670   0.0000   0.0000  \n",
       "regular_bike                0.0000   0.0000   0.0000  "
      ]
     },
     "execution_count": 28,
     "metadata": {},
     "output_type": "execute_result"
    }
   ],
   "source": [
    "# repcent of missing values\n",
    "data[['start_station_id', \n",
    "      'start_station_name', \n",
    "      'end_station_id', \n",
    "      'end_station_name', \n",
    "      'end_lat', \n",
    "      'end_lng']].isna().groupby(data['bike_type'], observed=True).sum()/data.shape[0]*100"
   ]
  },
  {
   "cell_type": "markdown",
   "id": "47060dfa-9f80-4c97-985f-9f7b6c13a964",
   "metadata": {},
   "source": [
    "#### `member_casual`"
   ]
  },
  {
   "cell_type": "code",
   "execution_count": 29,
   "id": "632a202a-297b-4918-b456-af37564b7b93",
   "metadata": {},
   "outputs": [
    {
     "data": {
      "text/plain": [
       "member_casual\n",
       "casual    10_403_519\n",
       "member    15_945_964\n",
       "dtype: object"
      ]
     },
     "execution_count": 29,
     "metadata": {},
     "output_type": "execute_result"
    }
   ],
   "source": [
    "data.groupby(['member_casual'], observed=True).size().map('{:_}'.format)"
   ]
  },
  {
   "cell_type": "code",
   "execution_count": 30,
   "id": "559cf6d1-bbf2-42d3-a808-4e793183a224",
   "metadata": {},
   "outputs": [],
   "source": [
    "# TODO: Convert rideable_type and member_casual to category\n",
    "data['member_casual'] = data['member_casual'].astype('category')"
   ]
  },
  {
   "cell_type": "code",
   "execution_count": 31,
   "id": "d9a97b18-3dfb-4285-8c55-e2b50e62a226",
   "metadata": {},
   "outputs": [],
   "source": [
    "assert isinstance(data['member_casual'].dtype, pd.api.types.CategoricalDtype), '`member_casual` variable is not a categorical type.'"
   ]
  },
  {
   "cell_type": "code",
   "execution_count": 32,
   "id": "2f4c09c3-f1e4-4164-8c69-0809246535be",
   "metadata": {},
   "outputs": [],
   "source": [
    "data.rename(columns={'member_casual': 'rider_type'}, inplace=True)"
   ]
  },
  {
   "cell_type": "code",
   "execution_count": 33,
   "id": "ba2271dc-45bd-4d56-9735-88b80dfb6cce",
   "metadata": {},
   "outputs": [],
   "source": [
    "assert 'rider_type' in data.columns"
   ]
  },
  {
   "cell_type": "code",
   "execution_count": 34,
   "id": "0dc7c400-df04-4a66-bed8-c7920f5161e3",
   "metadata": {},
   "outputs": [
    {
     "data": {
      "text/plain": [
       "Index(['ride_id', 'rideable_type', 'started_at', 'ended_at',\n",
       "       'start_station_name', 'start_station_id', 'end_station_name',\n",
       "       'end_station_id', 'start_lat', 'start_lng', 'end_lat', 'end_lng',\n",
       "       'rider_type', 'bike_type'],\n",
       "      dtype='object')"
      ]
     },
     "execution_count": 34,
     "metadata": {},
     "output_type": "execute_result"
    }
   ],
   "source": [
    "data.columns"
   ]
  },
  {
   "cell_type": "markdown",
   "id": "f2b4e1b2-2018-4e7f-a9e7-40ab2aa707b6",
   "metadata": {},
   "source": [
    "### Drop redundant columns"
   ]
  },
  {
   "cell_type": "code",
   "execution_count": 35,
   "id": "9f841a90-b806-4de8-a63d-ba56cf2b1428",
   "metadata": {},
   "outputs": [
    {
     "name": "stdout",
     "output_type": "stream",
     "text": [
      "<class 'pandas.core.frame.DataFrame'>\n",
      "Index: 26349483 entries, 0 to 26384907\n",
      "Data columns (total 14 columns):\n",
      " #   Column              Dtype         \n",
      "---  ------              -----         \n",
      " 0   ride_id             object        \n",
      " 1   rideable_type       category      \n",
      " 2   started_at          datetime64[ns]\n",
      " 3   ended_at            datetime64[ns]\n",
      " 4   start_station_name  object        \n",
      " 5   start_station_id    object        \n",
      " 6   end_station_name    object        \n",
      " 7   end_station_id      object        \n",
      " 8   start_lat           float64       \n",
      " 9   start_lng           float64       \n",
      " 10  end_lat             float64       \n",
      " 11  end_lng             float64       \n",
      " 12  rider_type          category      \n",
      " 13  bike_type           category      \n",
      "dtypes: category(3), datetime64[ns](2), float64(4), object(5)\n",
      "memory usage: 2.4+ GB\n"
     ]
    }
   ],
   "source": [
    "data.info()"
   ]
  },
  {
   "cell_type": "code",
   "execution_count": 36,
   "id": "17cb28a9-0eed-4a63-8f92-1bd8e59962ec",
   "metadata": {},
   "outputs": [],
   "source": [
    "cols_to_drop = ['rideable_type']\n",
    "data.drop(columns=cols_to_drop, axis=1, inplace=True)"
   ]
  },
  {
   "cell_type": "code",
   "execution_count": 37,
   "id": "54152d95-8ac8-498f-9463-99f573be0609",
   "metadata": {},
   "outputs": [],
   "source": [
    "# Verify columns dropped\n",
    "assert all(col not in data.columns for col in cols_to_drop), \"Columns have not been dropped\""
   ]
  },
  {
   "cell_type": "code",
   "execution_count": 38,
   "id": "8073b592-6d85-4e3b-87aa-4a469acf65fc",
   "metadata": {},
   "outputs": [
    {
     "data": {
      "text/plain": [
       "Index(['ride_id', 'started_at', 'ended_at', 'start_station_name',\n",
       "       'start_station_id', 'end_station_name', 'end_station_id', 'start_lat',\n",
       "       'start_lng', 'end_lat', 'end_lng', 'rider_type', 'bike_type'],\n",
       "      dtype='object')"
      ]
     },
     "execution_count": 38,
     "metadata": {},
     "output_type": "execute_result"
    }
   ],
   "source": [
    "data.columns"
   ]
  },
  {
   "cell_type": "markdown",
   "id": "99e28901-9171-4c8f-9973-4766f0c02a71",
   "metadata": {},
   "source": [
    "### Duplicated Rows"
   ]
  },
  {
   "cell_type": "code",
   "execution_count": 39,
   "id": "fcecad27-10c6-4bb8-be97-e30ea1b9f850",
   "metadata": {},
   "outputs": [],
   "source": [
    "assert data.duplicated().sum()==0"
   ]
  },
  {
   "cell_type": "markdown",
   "id": "83e59fc4-e30d-42ba-bac5-f837eba3cf16",
   "metadata": {},
   "source": [
    "### Impute Missing Values <a name='impute-missing-values'></a>"
   ]
  },
  {
   "cell_type": "code",
   "execution_count": 40,
   "id": "70990ecf-2481-47bd-87b2-e9003662fa15",
   "metadata": {},
   "outputs": [
    {
     "data": {
      "text/plain": [
       "start_station_name    3568139\n",
       "start_station_id      3568826\n",
       "end_station_name      3741829\n",
       "end_station_id        3742353\n",
       "dtype: int64"
      ]
     },
     "execution_count": 40,
     "metadata": {},
     "output_type": "execute_result"
    }
   ],
   "source": [
    "data.isna().sum()[data.isna().sum() > 0]"
   ]
  },
  {
   "cell_type": "code",
   "execution_count": 41,
   "id": "9a00cd16-7c98-437e-af88-e10d22de208b",
   "metadata": {},
   "outputs": [
    {
     "data": {
      "text/html": [
       "<div>\n",
       "<style scoped>\n",
       "    .dataframe tbody tr th:only-of-type {\n",
       "        vertical-align: middle;\n",
       "    }\n",
       "\n",
       "    .dataframe tbody tr th {\n",
       "        vertical-align: top;\n",
       "    }\n",
       "\n",
       "    .dataframe thead th {\n",
       "        text-align: right;\n",
       "    }\n",
       "</style>\n",
       "<table border=\"1\" class=\"dataframe\">\n",
       "  <thead>\n",
       "    <tr style=\"text-align: right;\">\n",
       "      <th></th>\n",
       "      <th>start_station_id</th>\n",
       "      <th>start_station_name</th>\n",
       "      <th>end_station_id</th>\n",
       "      <th>end_station_name</th>\n",
       "    </tr>\n",
       "    <tr>\n",
       "      <th>bike_type</th>\n",
       "      <th></th>\n",
       "      <th></th>\n",
       "      <th></th>\n",
       "      <th></th>\n",
       "    </tr>\n",
       "  </thead>\n",
       "  <tbody>\n",
       "    <tr>\n",
       "      <th>electric_bike</th>\n",
       "      <td>13.2875</td>\n",
       "      <td>13.2849</td>\n",
       "      <td>13.9358</td>\n",
       "      <td>13.9338</td>\n",
       "    </tr>\n",
       "    <tr>\n",
       "      <th>electric_scooter</th>\n",
       "      <td>0.2567</td>\n",
       "      <td>0.2567</td>\n",
       "      <td>0.2670</td>\n",
       "      <td>0.2670</td>\n",
       "    </tr>\n",
       "    <tr>\n",
       "      <th>regular_bike</th>\n",
       "      <td>0.0000</td>\n",
       "      <td>0.0000</td>\n",
       "      <td>0.0000</td>\n",
       "      <td>0.0000</td>\n",
       "    </tr>\n",
       "  </tbody>\n",
       "</table>\n",
       "</div>"
      ],
      "text/plain": [
       "                  start_station_id  start_station_name  end_station_id  \\\n",
       "bike_type                                                                \n",
       "electric_bike              13.2875             13.2849         13.9358   \n",
       "electric_scooter            0.2567              0.2567          0.2670   \n",
       "regular_bike                0.0000              0.0000          0.0000   \n",
       "\n",
       "                  end_station_name  \n",
       "bike_type                           \n",
       "electric_bike              13.9338  \n",
       "electric_scooter            0.2670  \n",
       "regular_bike                0.0000  "
      ]
     },
     "execution_count": 41,
     "metadata": {},
     "output_type": "execute_result"
    }
   ],
   "source": [
    "# percent of missing values\n",
    "data[['start_station_id', \n",
    "      'start_station_name', \n",
    "      'end_station_id', \n",
    "      'end_station_name',]].isna().groupby(data['bike_type'], observed=True).sum()/data.shape[0]*100"
   ]
  },
  {
   "cell_type": "markdown",
   "id": "58a21539-d08e-40bb-9e8b-ed02efd2db2c",
   "metadata": {},
   "source": [
    "__Observations:__\n",
    "- Only electric bikes have _NA_ values in `start_station_id`, `start_station_name`, `end_station_id`, and `end_station_name`. These columns do not need to be imputed as electric bike rides can be finished out of Divvy's dock stations."
   ]
  },
  {
   "cell_type": "markdown",
   "id": "88bb51a5-02b8-4873-842b-38b0c6471ce1",
   "metadata": {},
   "source": [
    "### Outliers\n",
    "\n",
    "Create additional variables to facilitate the identification and analysis of outliers and to enhance the [Exploratory Data Analysis (EDA)](./03_Divvy_exploratory_data_analysis.ipynb) process in the next stage."
   ]
  },
  {
   "cell_type": "code",
   "execution_count": 42,
   "id": "447c0642-3c1b-4be4-9e9a-96b331a2a60c",
   "metadata": {},
   "outputs": [],
   "source": [
    "dt = 'started_at'\n",
    "data['year'] = data[dt].dt.year\n",
    "data['quarter'] = data[dt].dt.quarter\n",
    "\n",
    "# {1: 'January', 2: 'February', 3: 'March', 4: 'April', 5: 'May', 6: 'June', 7: 'July', 8: 'August', 9: 'September',\n",
    "#   10: 'October', 11: 'November', 12: 'December'}\n",
    "data['month'] = data[dt].dt.month\n",
    "data['day'] = data[dt].dt.day\n",
    "data['hour'] = data[dt].dt.hour\n",
    "data['minute'] = data[dt].dt.minute\n",
    "\n",
    "# {1: 'Winter', 2: 'Spring', 3: 'Summer', 4: 'Autumn'}\n",
    "data['season'] = data['month'] % 12 // 3 + 1 \n",
    "\n",
    "# {1: 'Monday', 2: 'Tuesday', 3: 'Wednesday', 4: 'Thursday', 5: 'Friday', 6: 'Saturday', 7: 'Sunday'}\n",
    "data['weekday'] = data[dt].dt.weekday + 1\n",
    "\n",
    "# {1: 'Late Night', 2: 'Early Morning', 3: 'Morning', 4: 'Noon', 5: 'Evening', 6: 'Night'}\n",
    "data['part_day'] = (data['hour'] % 24 + 4) // 4 \n",
    "# duration of ride in minutes\n",
    "data['duration_min'] = data['ended_at'].sub(data['started_at']) / pd.Timedelta(minutes=1)"
   ]
  },
  {
   "cell_type": "code",
   "execution_count": 43,
   "id": "1ac30a3c-dcfc-45fd-b38f-e3378a150939",
   "metadata": {},
   "outputs": [
    {
     "name": "stdout",
     "output_type": "stream",
     "text": [
      "<class 'pandas.core.frame.DataFrame'>\n",
      "Index: 26349483 entries, 0 to 26384907\n",
      "Data columns (total 23 columns):\n",
      " #   Column              Dtype         \n",
      "---  ------              -----         \n",
      " 0   ride_id             object        \n",
      " 1   started_at          datetime64[ns]\n",
      " 2   ended_at            datetime64[ns]\n",
      " 3   start_station_name  object        \n",
      " 4   start_station_id    object        \n",
      " 5   end_station_name    object        \n",
      " 6   end_station_id      object        \n",
      " 7   start_lat           float64       \n",
      " 8   start_lng           float64       \n",
      " 9   end_lat             float64       \n",
      " 10  end_lng             float64       \n",
      " 11  rider_type          category      \n",
      " 12  bike_type           category      \n",
      " 13  year                int32         \n",
      " 14  quarter             int32         \n",
      " 15  month               int32         \n",
      " 16  day                 int32         \n",
      " 17  hour                int32         \n",
      " 18  minute              int32         \n",
      " 19  season              int32         \n",
      " 20  weekday             int32         \n",
      " 21  part_day            int32         \n",
      " 22  duration_min        float64       \n",
      "dtypes: category(2), datetime64[ns](2), float64(5), int32(9), object(5)\n",
      "memory usage: 3.5+ GB\n"
     ]
    }
   ],
   "source": [
    "data.info()"
   ]
  },
  {
   "cell_type": "code",
   "execution_count": null,
   "id": "f633d666-1c5f-451a-a4bd-a134118e4dfb",
   "metadata": {},
   "outputs": [],
   "source": [
    "# distance of ride in km\n",
    "import geopy.distance\n",
    "\n",
    "%time data['distance_km'] = data.apply(lambda x: geopy.distance.distance((x['start_lat'], x['start_lng']), \\\n",
    "                                                                         (x['end_lat'], x['end_lng'])).km, axis=1)"
   ]
  },
  {
   "cell_type": "code",
   "execution_count": null,
   "id": "0ab353a9-b293-408b-a92a-79af577c37c1",
   "metadata": {},
   "outputs": [],
   "source": [
    "# average speed\n",
    "data['avg_speed_kmph'] = data['distance_km'] / data['duration_min'] * 60"
   ]
  },
  {
   "cell_type": "code",
   "execution_count": null,
   "id": "2c40c2ee-3328-4f7f-8edd-b0d67f687d2c",
   "metadata": {},
   "outputs": [],
   "source": [
    "import calendar\n",
    "\n",
    "# prepare categorical variables\n",
    "# 'quarter', 'month', 'season', 'weekday', 'part_day'\n",
    "\n",
    "data['quarter'] = pd.Categorical(data['quarter'], categories=list(range(1, 5)), ordered=True)\n",
    "data['quarter'] = data['quarter'].cat.rename_categories({1: 'Q1', \n",
    "                                                         2: 'Q2', \n",
    "                                                         3: 'Q3', \n",
    "                                                         4: 'Q4'})\n",
    "\n",
    "data['month'] = pd.Categorical(data['month'], categories=list(range(1, 13)), ordered=True)\n",
    "data['month'] = data['month'].cat.rename_categories(dict(zip(range(1,13), list(calendar.month_name)[1:])))\n",
    "\n",
    "data['season'] = pd.Categorical(data['season'], categories=list(range(1, 5)), ordered=True)\n",
    "data['season'] = data['season'].cat.rename_categories({1: 'Winter', \n",
    "                                                       2: 'Spring', \n",
    "                                                       3: 'Summer', \n",
    "                                                       4: 'Autumn'})\n",
    "\n",
    "data['weekday'] = pd.Categorical(data['weekday'], \n",
    "                                 categories=list(range(1, 8)), ordered=True)\n",
    "data['weekday'] = data['weekday'].cat.rename_categories({1: 'Monday', \n",
    "                                                         2: 'Tuesday', \n",
    "                                                         3: 'Wednesday', \n",
    "                                                         4: 'Thursday', \n",
    "                                                         5: 'Friday', \n",
    "                                                         6: 'Saturday', \n",
    "                                                         7: 'Sunday'})\n",
    "\n",
    "data['part_day'] = pd.Categorical(data['part_day'], categories=list(range(1, 7)), ordered=True)\n",
    "data['part_day'] = data['part_day'].cat.rename_categories({1: 'Late Night', \n",
    "                                                         2: 'Early Morning', \n",
    "                                                         3: 'Morning',  \n",
    "                                                         4: 'Noon',  \n",
    "                                                         5: 'Evening',\n",
    "                                                         6: 'Night'})"
   ]
  },
  {
   "cell_type": "code",
   "execution_count": null,
   "id": "bedc38a8-5cec-4eae-b1f5-63bc69c08a3a",
   "metadata": {},
   "outputs": [],
   "source": [
    "data.info()"
   ]
  },
  {
   "cell_type": "code",
   "execution_count": null,
   "id": "73a31396-78f6-4a71-b194-af1397fac9bc",
   "metadata": {},
   "outputs": [],
   "source": [
    "data.describe().T"
   ]
  },
  {
   "cell_type": "markdown",
   "id": "0f1d2e6f-5f1a-4792-a61a-29b1171f7835",
   "metadata": {},
   "source": [
    "__Observations:__\n",
    "- `duration_min` has negative values which we have to remove.\n",
    "- `distance_km` has zero values which we have to analyze. Distance (km) can be 0 - start and end station are the same.\n",
    "- `avg_speed_kmph` has negative and _inf_ values for bicycle. As the Divvy's ebikes have speed up to 20 MPH (~ 32.2 kmph), the trips with an average speed greater than __33 kmph__ will be considered outliers."
   ]
  },
  {
   "cell_type": "code",
   "execution_count": null,
   "id": "f601e7ac-3d04-47f8-bb6a-ca5a55261b18",
   "metadata": {},
   "outputs": [],
   "source": [
    "print(f'Number of zero distance: {data[data['distance_km'] == 0.0].shape[0]:_}')\n",
    "print(f'Zero distance: {data[data['distance_km'] == 0.0].shape[0]/data.shape[0]*100:.2f}%')"
   ]
  },
  {
   "cell_type": "code",
   "execution_count": null,
   "id": "69a66d78-328d-4882-9050-fdfed6265db0",
   "metadata": {},
   "outputs": [],
   "source": [
    "print(f'Number of rides with undefined start and stop stations: ' \\\n",
    "        f'{data[(data['distance_km'] == 0.0) \\\n",
    "            & ((data['start_station_name'].isna()) \\\n",
    "             & (data['start_station_id'].isna()) \\\n",
    "              & (data['end_station_name'].isna()) \\\n",
    "               & (data['end_station_id'].isna()))].shape[0]:_}')"
   ]
  },
  {
   "cell_type": "markdown",
   "id": "c4edbc48-3eab-494a-b6f4-074cf62439b8",
   "metadata": {},
   "source": [
    "Remove the rides with zero distance and undefined start and stop station."
   ]
  },
  {
   "cell_type": "code",
   "execution_count": null,
   "id": "7b28b027-705e-46c2-a686-6860af2024f4",
   "metadata": {},
   "outputs": [],
   "source": [
    "data.drop(index=data[(data['distance_km'] == 0.0) \\\n",
    "                    & ((data['start_station_name'].isna()) \\\n",
    "                     & (data['start_station_id'].isna()) \\\n",
    "                      & (data['end_station_name'].isna()) \\\n",
    "                       & (data['end_station_id'].isna()))].index, inplace=True)"
   ]
  },
  {
   "cell_type": "code",
   "execution_count": null,
   "id": "7a195091-48dc-4b58-9d01-3328e976e09a",
   "metadata": {},
   "outputs": [],
   "source": [
    "# remove outliers in average speed\n",
    "data = data[(data['avg_speed_kmph'] >= 0.0) & (data['avg_speed_kmph'] <= 33.0)]"
   ]
  },
  {
   "cell_type": "code",
   "execution_count": null,
   "id": "9dd76fce-90ac-405c-9279-57dab2f77bf9",
   "metadata": {},
   "outputs": [],
   "source": [
    "# remove duration which less 1 min.\n",
    "data = data[(data['duration_min'] >= 1.0) & (data['distance_km'] >= 0.0)]"
   ]
  },
  {
   "cell_type": "code",
   "execution_count": null,
   "id": "4f6b3488-6057-458d-8102-1986fee1350e",
   "metadata": {},
   "outputs": [],
   "source": [
    "data.shape"
   ]
  },
  {
   "cell_type": "code",
   "execution_count": null,
   "id": "d1b89abc-666c-4987-a80d-0246659decc1",
   "metadata": {},
   "outputs": [],
   "source": [
    "data.describe().T"
   ]
  },
  {
   "cell_type": "markdown",
   "id": "baae4b65-b720-4bb3-a7f6-de0b5691124d",
   "metadata": {},
   "source": [
    "<span style=\"color:blue;\">_# TODO: Use median instead of mean for `distance_km`, `duration_min` and `avg_speed_kmph`, such as median is more robust to outliers._</span>"
   ]
  },
  {
   "cell_type": "markdown",
   "id": "9eef3998-873a-4ffe-a3c0-eaa9b54eb549",
   "metadata": {},
   "source": [
    "### Store Cleaned Data"
   ]
  },
  {
   "cell_type": "code",
   "execution_count": null,
   "id": "6363a5a1-c4bc-408c-9a2f-54a2a14de10b",
   "metadata": {},
   "outputs": [],
   "source": [
    "# save processed dataset fot further analysis\n",
    "data_divvy = data\n",
    "%store data_divvy"
   ]
  },
  {
   "cell_type": "code",
   "execution_count": null,
   "id": "e0b45317-5453-4717-a75e-7a4368175003",
   "metadata": {},
   "outputs": [],
   "source": [
    "%load_ext watermark\n",
    "%watermark -d -t -v -p numpy,pandas,matplotlib,seaborn,sklearn,statsmodels"
   ]
  },
  {
   "cell_type": "markdown",
   "id": "11300ae2-7702-4ca9-913a-43d7f275b95f",
   "metadata": {},
   "source": [
    "\n",
    "---\n",
    "\\\n",
    "[__<< Initial Data Exploration__](./01_Divvy_initial_data_exploration.ipynb) | [__Home__](../README.md) | [__Exploratory Data Analysis >>__](./03_Divvy_exploratory_data_analysis.ipynb)\n",
    "\\\n",
    "\\\n",
    "Divvy: Bike Sharing Forecast, _August 2024_"
   ]
  }
 ],
 "metadata": {
  "kernelspec": {
   "display_name": "Python 3 (ipykernel)",
   "language": "python",
   "name": "python3"
  },
  "language_info": {
   "codemirror_mode": {
    "name": "ipython",
    "version": 3
   },
   "file_extension": ".py",
   "mimetype": "text/x-python",
   "name": "python",
   "nbconvert_exporter": "python",
   "pygments_lexer": "ipython3",
   "version": "3.12.4"
  }
 },
 "nbformat": 4,
 "nbformat_minor": 5
}
