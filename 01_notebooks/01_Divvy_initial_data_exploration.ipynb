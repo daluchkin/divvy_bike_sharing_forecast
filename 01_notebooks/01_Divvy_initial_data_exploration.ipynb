{
 "cells": [
  {
   "cell_type": "markdown",
   "id": "498ce458-e94d-4d62-bda6-6087df0a3210",
   "metadata": {},
   "source": [
    "<a name=\"top_notebook\"></a>\n",
    "[__Home__](../README.md) | [__Data Cleaning >>__](./02_Divvy_data_cleaning.ipynb)\n",
    "\n",
    "\n",
    "# Divvy: Bike Sharing Forecast\n",
    "## Initial Data Exploration\n",
    "\n",
    "__Dataset:__ [Divvy Data](https://divvybikes.com/system-data) \\\n",
    "__Author:__ [Dmitry Luchkin](https://www.linkedin.com/in/dmitry-luchkin/) \\\n",
    "__Date:__ March 2025\n"
   ]
  },
  {
   "cell_type": "markdown",
   "id": "b6046b31-ce2d-4bdd-93f7-5c57f977cc13",
   "metadata": {},
   "source": [
    "### Introduction"
   ]
  },
  {
   "cell_type": "markdown",
   "id": "f3c9449e-3a27-44da-bc4f-ee75c2c71dfd",
   "metadata": {},
   "source": [
    "![alt text](https://images.ctfassets.net/p6ae3zqfb1e3/1owS8BnG7K4KqL42WIik7H/c5e5e09496ccd5d308f2402440919cb9/Divvy_Plans_pricing_Hero_2x.jpg?w=2500&q=60&fm=webp)\n",
    "Image Source: Official Divvy Website"
   ]
  },
  {
   "cell_type": "markdown",
   "id": "9da0d659-5f43-43ae-90fb-0f84c33e2d9a",
   "metadata": {},
   "source": [
    "The Divvy bicycle sharing service in Chicago offers an environmentally friendly and convenient transportation option, supported by a public-private partnership with Lyft. With a broad network of docking stations and a fleet of standard and electric bicycles, Divvy serves a diverse range of users. This project focuses on analyzing ride data to forecast the number of rides and to understand the impact of external factors such as weather conditions and public holidays. By examining these variables, the project aims to identify patterns in usage, determine peak times, and evaluate the effects of different conditions on ride frequency. The insights gained will assist in optimizing operations, planning for demand fluctuations, and enhancing overall service delivery, contributing to the promotion of sustainable urban mobility in Chicago."
   ]
  },
  {
   "cell_type": "markdown",
   "id": "da32189d-2836-49f0-9193-f538c7c9efed",
   "metadata": {},
   "source": [
    "#### Scope of the Project\n",
    "\n",
    "The scope of this project encompasses the following key activities and analyses related to the Divvy bicycle sharing service in Chicago:\n",
    "\n",
    "- __Data Collection and Preparation__\n",
    "\n",
    "    - Gather historical ride data from Divvy, including details such as trip duration, start and end locations, and time of rides.\n",
    "    - Collect additional data on external factors such as weather conditions (temperature, precipitation, etc.) and public holidays.\n",
    "\n",
    "- __Exploratory Data Analysis (EDA)__\n",
    "\n",
    "    - Analyze the collected data to identify patterns and trends in ride usage.\n",
    "    - Determine peak usage times, popular routes, and any seasonal variations in the data.\n",
    "\n",
    "- __Impact Analysis__\n",
    "\n",
    "    - Assess the impact of weather conditions on the number of rides, identifying which weather factors most significantly influence usage.\n",
    "    - Evaluate the effect of public holidays on ride frequency, including variations in usage patterns during these periods.\n",
    "\n",
    "- __Forecasting Ride Numbers__\n",
    "\n",
    "    - Develop and implement predictive models to forecast the number of rides, using historical data and identified influencing factors.\n",
    "    - Test and validate the accuracy of these models using appropriate statistical and machine learning techniques.\n",
    "\n",
    "\n",
    "- __Operational Insights and Optimization__\n",
    "\n",
    "    - Provide actionable insights for optimizing the distribution of bicycles and managing docking stations based on predicted demand.\n",
    "    - Recommend strategies for handling fluctuations in demand, particularly during adverse weather conditions or public holidays.\n",
    "\n",
    "\n",
    "- __Reporting and Visualization__\n",
    "\n",
    "    - Create detailed reports and visualizations to present findings, including interactive dashboards or visual aids for stakeholders.\n",
    "    - Document the methodology, results, and conclusions drawn from the analyses.\n",
    "\n",
    "#### Out of Scope\n",
    "- Analysis of user demographic data, as this information is not included in the available dataset.\n",
    "- Development of new infrastructure or direct operational changes, as the project is limited to data analysis and recommendations.\n",
    "- Real-time monitoring and adjustment of services, as the focus is on historical data and predictive modeling rather than live system management.\n",
    "- This scope outlines the boundaries and focus areas of the project, ensuring that all activities are aligned with the objectives and expected outcomes. It also clarifies what is not included, providing a clear understanding of the project's limitations."
   ]
  },
  {
   "cell_type": "markdown",
   "id": "a553ee93-e66a-41ef-979e-eb6062ada1ac",
   "metadata": {},
   "source": [
    "#### Goals of the Project\n",
    "\n",
    "- Analyze ride data to forecast the number of rides.\n",
    "- Examine the impact of weather conditions on ride frequency.\n",
    "- Assess the effect of public holidays on the number of rides.\n",
    "- Identify patterns in usage, including peak times and popular routes.\n",
    "- Provide insights for optimizing the operational aspects of the service.\n",
    "- Support planning for demand fluctuations based on predictive analysis.\n",
    "- Enhance service delivery and user experience through data-driven decisions."
   ]
  },
  {
   "cell_type": "markdown",
   "id": "ec9af1e4-f5a4-4fb2-967a-078ca93fa9c7",
   "metadata": {},
   "source": [
    "#### Dataset  <a  class=\"anchor\" name='dataset'></a>\n",
    "\n",
    "This dataset is 53 .CSV files containing data points with information about rides in bike sharing service from **January 2020** to **December 2024**.\n",
    "\n",
    "Each trip is anonymized and includes:\n",
    "\n",
    "- Trip start day and time\n",
    "- Trip end day and time\n",
    "- Trip start station\n",
    "- Trip end station\n",
    "- Rider type (Member, Single Ride, and Day Pass)\n",
    "\n",
    "The data has been processed to remove trips that are taken by staff as they service and inspect the system; and any trips that were below 60 seconds in length (potentially false starts or users trying to re-dock a bike to ensure it was secure).\n",
    "\n",
    "\n",
    "##### Description of Attributes\n",
    "\n",
    "| Attribute            | Description                                                      |\n",
    "|----------------------|------------------------------------------------------------------|\n",
    "| `ride_id`            | Ride ID                                                          |\n",
    "| `rideable_type`      | Type of a bike                                                   |\n",
    "| `started_at`         | Trip start day and time                                          |\n",
    "| `ended_at`           | Trip end day and time                                            |\n",
    "| `start_station_name` | Trip start station name                                          |\n",
    "| `start_station_id`   | Trip start station ID                                            |\n",
    "| `end_station_name`   | Trip end station name                                            |\n",
    "| `end_station_id`     | Trip end station ID                                              |\n",
    "| `start_lat`          | Latitude of a start point                                        |\n",
    "| `start_lng`          | Latitude of a start point                                        |\n",
    "| `end_lat`            | Latitude of a start point                                        |\n",
    "| `end_lng`            | Latitude of a start point                                        |\n",
    "| `member_casual`      | Rider type                                                       |\n",
    "\n",
    "\n",
    "##### Lisense\n",
    "This data is provided according to the [Divvy Data License Agreement](https://www.divvybikes.com/data-license-agreement) and released on a monthly schedule."
   ]
  },
  {
   "cell_type": "markdown",
   "id": "e9cbed67-703c-437d-b711-c31f1a495639",
   "metadata": {},
   "source": [
    "---"
   ]
  },
  {
   "cell_type": "markdown",
   "id": "425481c9-7630-4094-b4d0-1c9de4e9694f",
   "metadata": {},
   "source": [
    "> **Attention**\n",
    ">\n",
    "> The data utilized in this project were sourced from the official public data provided by Divvy. All analysis, results, and insights presented in this notebook were conducted and formulated by Dmitry Luchkin. I declare that I am not affiliated with Divvy, Lyft, the City of Chicago, or any associated organizations. The views and interpretations expressed herein are solely my own and do not represent the positions or policies of these entities."
   ]
  },
  {
   "cell_type": "markdown",
   "id": "8743936d-fbc5-4fb8-b50e-0af1b8980967",
   "metadata": {},
   "source": [
    "### Objectives <a name=\"objectives\"></a>\n",
    "\n",
    "- Gather data from various sources such as CSV files, databases, APIs, or data warehouses.\n",
    "- Load data into the analysis environment.\n",
    "- Review the dataset’s structure, including columns and data types.\n",
    "- Identify uniquenees, missing, duplicated values\n",
    "- For categorical data, determine the frequency of each category."
   ]
  },
  {
   "cell_type": "markdown",
   "id": "49839d70-4311-4a5b-ab47-8869e8d87147",
   "metadata": {},
   "source": [
    "### Notebooks <a class=\"anchor\" name='notebooks'></a>\n",
    "\n",
    "+ __[Initial Data Exploration](./01_Divvy_data_exploration.ipynb)__\n",
    "+ [Data Cleaning](./02_Divvy_data_cleaning.ipynb)\n",
    "+ [Exploratory Data Analysis](./03_Divvy_exploratory_data_analysis.ipynb)\n",
    "+ [Feature Engineering](./04_Divvy_feature_engineering.ipynb)\n",
    "+ [Modeling & Validation](./05_Divvy_forecasting.ipynb)"
   ]
  },
  {
   "cell_type": "markdown",
   "id": "f86b950e-799c-4bfd-8bdc-c5c98cb3d509",
   "metadata": {},
   "source": [
    "### Import Libraries <a name='import-libraries'></a>"
   ]
  },
  {
   "cell_type": "code",
   "execution_count": 1,
   "id": "4925e3cc-7b0d-4274-81d4-2600f68c2bdd",
   "metadata": {},
   "outputs": [],
   "source": [
    "import datetime\n",
    "import sys\n",
    "import re\n",
    "import os\n",
    "\n",
    "import pandas as pd\n",
    "import numpy as np\n",
    "import statsmodels as sm\n",
    "import matplotlib\n",
    "import matplotlib.pyplot as plt\n",
    "import seaborn as sns\n",
    "\n",
    "sys.path.append('../02_scripts/')\n",
    "\n",
    "%matplotlib inline"
   ]
  },
  {
   "cell_type": "code",
   "execution_count": 2,
   "id": "c638d955-e22a-40b0-a4e6-7376927ff480",
   "metadata": {},
   "outputs": [],
   "source": [
    "from IPython.display import Markdown\n",
    "from IPython.core.magic import register_cell_magic\n",
    "\n",
    "\n",
    "@register_cell_magic\n",
    "def markdown(line, cell):\n",
    "    return Markdown(cell.format(**globals()))"
   ]
  },
  {
   "cell_type": "markdown",
   "id": "2b1966d8-06c3-4508-b7b9-803b5b20da41",
   "metadata": {},
   "source": [
    "### Notebook Setup <a name='notebook-setup'></a>"
   ]
  },
  {
   "cell_type": "code",
   "execution_count": 3,
   "id": "2fb0a029-a0ca-4ad7-86b1-0267b7783a0b",
   "metadata": {},
   "outputs": [],
   "source": [
    "# Pandas settings\n",
    "pd.options.display.max_columns = None\n",
    "pd.options.display.max_colwidth = 60\n",
    "pd.options.display.float_format = '{:,.4f}'.format\n",
    "\n",
    "# Visualization settings\n",
    "from matplotlib import rcParams\n",
    "plt.style.use('fivethirtyeight')\n",
    "rcParams['figure.figsize'] = (16, 5)   \n",
    "rcParams['axes.spines.right'] = False\n",
    "rcParams['axes.spines.top'] = False\n",
    "rcParams['font.size'] = 12\n",
    "rcParams['savefig.dpi'] = 300\n",
    "plt.rc('xtick', labelsize=11)\n",
    "plt.rc('ytick', labelsize=11)\n",
    "%config InlineBackend.figure_format = 'retina'"
   ]
  },
  {
   "cell_type": "markdown",
   "id": "ba4da935-ddc5-417d-a550-a5e473742cbc",
   "metadata": {},
   "source": [
    "### Loading Data <a name='loading-data'></a>"
   ]
  },
  {
   "cell_type": "markdown",
   "id": "2ded7b43-06ef-4da1-b49e-34b2e0f2ce0b",
   "metadata": {},
   "source": [
    "Have a quick look at the data."
   ]
  },
  {
   "cell_type": "code",
   "execution_count": 4,
   "id": "8f41ba18-75b0-4b7e-b199-173ba372ec2b",
   "metadata": {},
   "outputs": [
    {
     "name": "stdout",
     "output_type": "stream",
     "text": [
      "../00_data/00_raw/202004-divvy-tripdata.csv\n",
      "../00_data/00_raw/202005-divvy-tripdata.csv\n",
      "../00_data/00_raw/202006-divvy-tripdata.csv\n",
      "../00_data/00_raw/202007-divvy-tripdata.csv\n",
      "../00_data/00_raw/202008-divvy-tripdata.csv\n",
      "../00_data/00_raw/202009-divvy-tripdata.csv\n",
      "../00_data/00_raw/202010-divvy-tripdata.csv\n",
      "../00_data/00_raw/202011-divvy-tripdata.csv\n",
      "../00_data/00_raw/202012-divvy-tripdata.csv\n",
      "../00_data/00_raw/202101-divvy-tripdata.csv\n",
      "../00_data/00_raw/202102-divvy-tripdata.csv\n",
      "../00_data/00_raw/202103-divvy-tripdata.csv\n",
      "../00_data/00_raw/202104-divvy-tripdata.csv\n",
      "../00_data/00_raw/202105-divvy-tripdata.csv\n",
      "../00_data/00_raw/202106-divvy-tripdata.csv\n",
      "../00_data/00_raw/202107-divvy-tripdata.csv\n",
      "../00_data/00_raw/202108-divvy-tripdata.csv\n",
      "../00_data/00_raw/202109-divvy-tripdata.csv\n",
      "../00_data/00_raw/202110-divvy-tripdata.csv\n",
      "../00_data/00_raw/202111-divvy-tripdata.csv\n",
      "../00_data/00_raw/202112-divvy-tripdata.csv\n",
      "../00_data/00_raw/202201-divvy-tripdata.csv\n",
      "../00_data/00_raw/202202-divvy-tripdata.csv\n",
      "../00_data/00_raw/202203-divvy-tripdata.csv\n",
      "../00_data/00_raw/202204-divvy-tripdata.csv\n",
      "../00_data/00_raw/202205-divvy-tripdata.csv\n",
      "../00_data/00_raw/202206-divvy-tripdata.csv\n",
      "../00_data/00_raw/202207-divvy-tripdata.csv\n",
      "../00_data/00_raw/202208-divvy-tripdata.csv\n",
      "../00_data/00_raw/202209-divvy-publictripdata.csv\n",
      "../00_data/00_raw/202210-divvy-tripdata.csv\n",
      "../00_data/00_raw/202211-divvy-tripdata.csv\n",
      "../00_data/00_raw/202212-divvy-tripdata.csv\n",
      "../00_data/00_raw/202301-divvy-tripdata.csv\n",
      "../00_data/00_raw/202302-divvy-tripdata.csv\n",
      "../00_data/00_raw/202303-divvy-tripdata.csv\n",
      "../00_data/00_raw/202304-divvy-tripdata.csv\n",
      "../00_data/00_raw/202305-divvy-tripdata.csv\n",
      "../00_data/00_raw/202306-divvy-tripdata.csv\n",
      "../00_data/00_raw/202307-divvy-tripdata.csv\n",
      "../00_data/00_raw/202308-divvy-tripdata.csv\n",
      "../00_data/00_raw/202309-divvy-tripdata.csv\n",
      "../00_data/00_raw/202310-divvy-tripdata.csv\n",
      "../00_data/00_raw/202311-divvy-tripdata.csv\n",
      "../00_data/00_raw/202312-divvy-tripdata.csv\n",
      "../00_data/00_raw/202401-divvy-tripdata.csv\n",
      "../00_data/00_raw/202402-divvy-tripdata.csv\n",
      "../00_data/00_raw/202403-divvy-tripdata.csv\n",
      "../00_data/00_raw/202404-divvy-tripdata.csv\n",
      "../00_data/00_raw/202405-divvy-tripdata.csv\n",
      "../00_data/00_raw/202406-divvy-tripdata.csv\n",
      "../00_data/00_raw/202407-divvy-tripdata.csv\n",
      "../00_data/00_raw/202408-divvy-tripdata.csv\n",
      "../00_data/00_raw/202409-divvy-tripdata.csv\n",
      "../00_data/00_raw/202410-divvy-tripdata.csv\n",
      "../00_data/00_raw/202411-divvy-tripdata.csv\n",
      "../00_data/00_raw/202412-divvy-tripdata.csv\n",
      "../00_data/00_raw/Divvy_Trips_2020_Q1.csv\n"
     ]
    }
   ],
   "source": [
    "%ls ../00_data/00_raw/*.csv"
   ]
  },
  {
   "cell_type": "code",
   "execution_count": 5,
   "id": "90b3d5ba-6d00-45ee-9ead-e2132a52dfc1",
   "metadata": {},
   "outputs": [
    {
     "data": {
      "text/plain": [
       "['202011-divvy-tripdata.csv',\n",
       " '202208-divvy-tripdata.csv',\n",
       " '202205-divvy-tripdata.csv',\n",
       " '202310-divvy-tripdata.csv',\n",
       " '202109-divvy-tripdata.csv',\n",
       " '202104-divvy-tripdata.csv',\n",
       " '202404-divvy-tripdata.csv',\n",
       " '202409-divvy-tripdata.csv',\n",
       " '202303-divvy-tripdata.csv',\n",
       " '202407-divvy-tripdata.csv',\n",
       " '202107-divvy-tripdata.csv',\n",
       " '202206-divvy-tripdata.csv',\n",
       " '202012-divvy-tripdata.csv',\n",
       " 'Divvy_Trips_2020_Q1.csv',\n",
       " '202004-divvy-tripdata.csv',\n",
       " '202009-divvy-tripdata.csv',\n",
       " '202210-divvy-tripdata.csv',\n",
       " '202305-divvy-tripdata.csv',\n",
       " '202308-divvy-tripdata.csv',\n",
       " '202111-divvy-tripdata.csv',\n",
       " '202401-divvy-tripdata.csv',\n",
       " '202101-divvy-tripdata.csv',\n",
       " '202411-divvy-tripdata.csv',\n",
       " '202412-divvy-tripdata.csv',\n",
       " '202102-divvy-tripdata.csv',\n",
       " '202402-divvy-tripdata.csv',\n",
       " '202112-divvy-tripdata.csv',\n",
       " '202306-divvy-tripdata.csv',\n",
       " '202203-divvy-tripdata.csv',\n",
       " '202007-divvy-tripdata.csv',\n",
       " '202403-divvy-tripdata.csv',\n",
       " '202307-divvy-tripdata.csv',\n",
       " '202103-divvy-tripdata.csv',\n",
       " '202212-divvy-tripdata.csv',\n",
       " '202006-divvy-tripdata.csv',\n",
       " '202202-divvy-tripdata.csv',\n",
       " '202201-divvy-tripdata.csv',\n",
       " '202005-divvy-tripdata.csv',\n",
       " '202211-divvy-tripdata.csv',\n",
       " '202008-divvy-tripdata.csv',\n",
       " '202410-divvy-tripdata.csv',\n",
       " '202304-divvy-tripdata.csv',\n",
       " '202110-divvy-tripdata.csv',\n",
       " '202309-divvy-tripdata.csv',\n",
       " '202106-divvy-tripdata.csv',\n",
       " '202312-divvy-tripdata.csv',\n",
       " '202302-divvy-tripdata.csv',\n",
       " '202406-divvy-tripdata.csv',\n",
       " '202207-divvy-tripdata.csv',\n",
       " '202010-divvy-tripdata.csv',\n",
       " '202204-divvy-tripdata.csv',\n",
       " '202209-divvy-publictripdata.csv',\n",
       " '202405-divvy-tripdata.csv',\n",
       " '202301-divvy-tripdata.csv',\n",
       " '202408-divvy-tripdata.csv',\n",
       " '202108-divvy-tripdata.csv',\n",
       " '202311-divvy-tripdata.csv',\n",
       " '202105-divvy-tripdata.csv']"
      ]
     },
     "execution_count": 5,
     "metadata": {},
     "output_type": "execute_result"
    }
   ],
   "source": [
    "[file for file in os.listdir('../00_data/00_raw/') if file.endswith('.csv')]"
   ]
  },
  {
   "cell_type": "code",
   "execution_count": 6,
   "id": "f1b2aa43-6a83-4acd-ba31-9e97c28ad739",
   "metadata": {},
   "outputs": [],
   "source": [
    "files = ['../00_data/00_raw/' + file for file in os.listdir('../00_data/00_raw/') if file.endswith('.csv')]"
   ]
  },
  {
   "cell_type": "code",
   "execution_count": 7,
   "id": "eb583bf1-2356-46e1-be15-b8433640668a",
   "metadata": {},
   "outputs": [
    {
     "data": {
      "text/plain": [
       "58"
      ]
     },
     "execution_count": 7,
     "metadata": {},
     "output_type": "execute_result"
    }
   ],
   "source": [
    "len(files)"
   ]
  },
  {
   "cell_type": "code",
   "execution_count": 8,
   "id": "08574621-2a28-4f2d-b9f6-c9558bb5081b",
   "metadata": {},
   "outputs": [
    {
     "name": "stdout",
     "output_type": "stream",
     "text": [
      "../00_data/00_raw/202011-divvy-tripdata.csv loading...\n",
      "../00_data/00_raw/202208-divvy-tripdata.csv loading...\n",
      "../00_data/00_raw/202205-divvy-tripdata.csv loading...\n",
      "../00_data/00_raw/202310-divvy-tripdata.csv loading...\n",
      "../00_data/00_raw/202109-divvy-tripdata.csv loading...\n",
      "../00_data/00_raw/202104-divvy-tripdata.csv loading...\n",
      "../00_data/00_raw/202404-divvy-tripdata.csv loading...\n",
      "../00_data/00_raw/202409-divvy-tripdata.csv loading...\n",
      "../00_data/00_raw/202303-divvy-tripdata.csv loading...\n",
      "../00_data/00_raw/202407-divvy-tripdata.csv loading...\n",
      "../00_data/00_raw/202107-divvy-tripdata.csv loading...\n",
      "../00_data/00_raw/202206-divvy-tripdata.csv loading...\n",
      "../00_data/00_raw/202012-divvy-tripdata.csv loading...\n",
      "../00_data/00_raw/Divvy_Trips_2020_Q1.csv loading...\n",
      "../00_data/00_raw/202004-divvy-tripdata.csv loading...\n",
      "../00_data/00_raw/202009-divvy-tripdata.csv loading...\n",
      "../00_data/00_raw/202210-divvy-tripdata.csv loading...\n",
      "../00_data/00_raw/202305-divvy-tripdata.csv loading...\n",
      "../00_data/00_raw/202308-divvy-tripdata.csv loading...\n",
      "../00_data/00_raw/202111-divvy-tripdata.csv loading...\n",
      "../00_data/00_raw/202401-divvy-tripdata.csv loading...\n",
      "../00_data/00_raw/202101-divvy-tripdata.csv loading...\n",
      "../00_data/00_raw/202411-divvy-tripdata.csv loading...\n",
      "../00_data/00_raw/202412-divvy-tripdata.csv loading...\n",
      "../00_data/00_raw/202102-divvy-tripdata.csv loading...\n",
      "../00_data/00_raw/202402-divvy-tripdata.csv loading...\n",
      "../00_data/00_raw/202112-divvy-tripdata.csv loading...\n",
      "../00_data/00_raw/202306-divvy-tripdata.csv loading...\n",
      "../00_data/00_raw/202203-divvy-tripdata.csv loading...\n",
      "../00_data/00_raw/202007-divvy-tripdata.csv loading...\n",
      "../00_data/00_raw/202403-divvy-tripdata.csv loading...\n",
      "../00_data/00_raw/202307-divvy-tripdata.csv loading...\n",
      "../00_data/00_raw/202103-divvy-tripdata.csv loading...\n",
      "../00_data/00_raw/202212-divvy-tripdata.csv loading...\n",
      "../00_data/00_raw/202006-divvy-tripdata.csv loading...\n",
      "../00_data/00_raw/202202-divvy-tripdata.csv loading...\n",
      "../00_data/00_raw/202201-divvy-tripdata.csv loading...\n",
      "../00_data/00_raw/202005-divvy-tripdata.csv loading...\n",
      "../00_data/00_raw/202211-divvy-tripdata.csv loading...\n",
      "../00_data/00_raw/202008-divvy-tripdata.csv loading...\n",
      "../00_data/00_raw/202410-divvy-tripdata.csv loading...\n",
      "../00_data/00_raw/202304-divvy-tripdata.csv loading...\n",
      "../00_data/00_raw/202110-divvy-tripdata.csv loading...\n",
      "../00_data/00_raw/202309-divvy-tripdata.csv loading...\n",
      "../00_data/00_raw/202106-divvy-tripdata.csv loading...\n",
      "../00_data/00_raw/202312-divvy-tripdata.csv loading...\n",
      "../00_data/00_raw/202302-divvy-tripdata.csv loading...\n",
      "../00_data/00_raw/202406-divvy-tripdata.csv loading...\n",
      "../00_data/00_raw/202207-divvy-tripdata.csv loading...\n",
      "../00_data/00_raw/202010-divvy-tripdata.csv loading...\n",
      "../00_data/00_raw/202204-divvy-tripdata.csv loading...\n",
      "../00_data/00_raw/202209-divvy-publictripdata.csv loading...\n",
      "../00_data/00_raw/202405-divvy-tripdata.csv loading...\n",
      "../00_data/00_raw/202301-divvy-tripdata.csv loading...\n",
      "../00_data/00_raw/202408-divvy-tripdata.csv loading...\n",
      "../00_data/00_raw/202108-divvy-tripdata.csv loading...\n",
      "../00_data/00_raw/202311-divvy-tripdata.csv loading...\n",
      "../00_data/00_raw/202105-divvy-tripdata.csv loading...\n"
     ]
    }
   ],
   "source": [
    "def load(x):\n",
    "    print(f'{x} loading...')\n",
    "    return pd.read_csv(x)\n",
    "\n",
    "data = pd.concat(map(load, files), ignore_index=True)"
   ]
  },
  {
   "cell_type": "markdown",
   "id": "77225557-87c0-44cf-b2cc-257171a05f4f",
   "metadata": {},
   "source": [
    "### Data Exploration"
   ]
  },
  {
   "cell_type": "code",
   "execution_count": 9,
   "id": "43ac19d3-d689-40b0-86a3-f01598f392de",
   "metadata": {},
   "outputs": [
    {
     "name": "stdout",
     "output_type": "stream",
     "text": [
      "Rows count: 26_384_908, Columns count: 13\n"
     ]
    }
   ],
   "source": [
    "print(f'Rows count: {data.shape[0]:_}, Columns count: {data.shape[1]}')"
   ]
  },
  {
   "cell_type": "code",
   "execution_count": 10,
   "id": "034e59de-045c-46a6-8350-455c1f3e5d86",
   "metadata": {},
   "outputs": [
    {
     "data": {
      "text/plain": [
       "Index(['ride_id', 'rideable_type', 'started_at', 'ended_at',\n",
       "       'start_station_name', 'start_station_id', 'end_station_name',\n",
       "       'end_station_id', 'start_lat', 'start_lng', 'end_lat', 'end_lng',\n",
       "       'member_casual'],\n",
       "      dtype='object')"
      ]
     },
     "execution_count": 10,
     "metadata": {},
     "output_type": "execute_result"
    }
   ],
   "source": [
    "data.columns"
   ]
  },
  {
   "cell_type": "code",
   "execution_count": 11,
   "id": "202d6b5d-fec1-4398-b66a-391c87e166dd",
   "metadata": {},
   "outputs": [
    {
     "data": {
      "text/html": [
       "<div>\n",
       "<style scoped>\n",
       "    .dataframe tbody tr th:only-of-type {\n",
       "        vertical-align: middle;\n",
       "    }\n",
       "\n",
       "    .dataframe tbody tr th {\n",
       "        vertical-align: top;\n",
       "    }\n",
       "\n",
       "    .dataframe thead th {\n",
       "        text-align: right;\n",
       "    }\n",
       "</style>\n",
       "<table border=\"1\" class=\"dataframe\">\n",
       "  <thead>\n",
       "    <tr style=\"text-align: right;\">\n",
       "      <th></th>\n",
       "      <th>ride_id</th>\n",
       "      <th>rideable_type</th>\n",
       "      <th>started_at</th>\n",
       "      <th>ended_at</th>\n",
       "      <th>start_station_name</th>\n",
       "      <th>start_station_id</th>\n",
       "      <th>end_station_name</th>\n",
       "      <th>end_station_id</th>\n",
       "      <th>start_lat</th>\n",
       "      <th>start_lng</th>\n",
       "      <th>end_lat</th>\n",
       "      <th>end_lng</th>\n",
       "      <th>member_casual</th>\n",
       "    </tr>\n",
       "  </thead>\n",
       "  <tbody>\n",
       "    <tr>\n",
       "      <th>0</th>\n",
       "      <td>BD0A6FF6FFF9B921</td>\n",
       "      <td>electric_bike</td>\n",
       "      <td>2020-11-01 13:36:00</td>\n",
       "      <td>2020-11-01 13:45:40</td>\n",
       "      <td>Dearborn St &amp; Erie St</td>\n",
       "      <td>110.0000</td>\n",
       "      <td>St. Clair St &amp; Erie St</td>\n",
       "      <td>211.0000</td>\n",
       "      <td>41.8942</td>\n",
       "      <td>-87.6291</td>\n",
       "      <td>41.8944</td>\n",
       "      <td>-87.6234</td>\n",
       "      <td>casual</td>\n",
       "    </tr>\n",
       "    <tr>\n",
       "      <th>1</th>\n",
       "      <td>96A7A7A4BDE4F82D</td>\n",
       "      <td>electric_bike</td>\n",
       "      <td>2020-11-01 10:03:26</td>\n",
       "      <td>2020-11-01 10:14:45</td>\n",
       "      <td>Franklin St &amp; Illinois St</td>\n",
       "      <td>672.0000</td>\n",
       "      <td>Noble St &amp; Milwaukee Ave</td>\n",
       "      <td>29.0000</td>\n",
       "      <td>41.8910</td>\n",
       "      <td>-87.6353</td>\n",
       "      <td>41.9007</td>\n",
       "      <td>-87.6625</td>\n",
       "      <td>casual</td>\n",
       "    </tr>\n",
       "    <tr>\n",
       "      <th>2</th>\n",
       "      <td>C61526D06582BDC5</td>\n",
       "      <td>electric_bike</td>\n",
       "      <td>2020-11-01 00:34:05</td>\n",
       "      <td>2020-11-01 01:03:06</td>\n",
       "      <td>Lake Shore Dr &amp; Monroe St</td>\n",
       "      <td>76.0000</td>\n",
       "      <td>Federal St &amp; Polk St</td>\n",
       "      <td>41.0000</td>\n",
       "      <td>41.8810</td>\n",
       "      <td>-87.6168</td>\n",
       "      <td>41.8721</td>\n",
       "      <td>-87.6296</td>\n",
       "      <td>casual</td>\n",
       "    </tr>\n",
       "    <tr>\n",
       "      <th>3</th>\n",
       "      <td>E533E89C32080B9E</td>\n",
       "      <td>electric_bike</td>\n",
       "      <td>2020-11-01 00:45:16</td>\n",
       "      <td>2020-11-01 00:54:31</td>\n",
       "      <td>Leavitt St &amp; Chicago Ave</td>\n",
       "      <td>659.0000</td>\n",
       "      <td>Stave St &amp; Armitage Ave</td>\n",
       "      <td>185.0000</td>\n",
       "      <td>41.8955</td>\n",
       "      <td>-87.6820</td>\n",
       "      <td>41.9177</td>\n",
       "      <td>-87.6914</td>\n",
       "      <td>casual</td>\n",
       "    </tr>\n",
       "    <tr>\n",
       "      <th>4</th>\n",
       "      <td>1C9F4EF18C168C60</td>\n",
       "      <td>electric_bike</td>\n",
       "      <td>2020-11-01 15:43:25</td>\n",
       "      <td>2020-11-01 16:16:52</td>\n",
       "      <td>Buckingham Fountain</td>\n",
       "      <td>2.0000</td>\n",
       "      <td>Buckingham Fountain</td>\n",
       "      <td>2.0000</td>\n",
       "      <td>41.8765</td>\n",
       "      <td>-87.6204</td>\n",
       "      <td>41.8764</td>\n",
       "      <td>-87.6203</td>\n",
       "      <td>casual</td>\n",
       "    </tr>\n",
       "  </tbody>\n",
       "</table>\n",
       "</div>"
      ],
      "text/plain": [
       "            ride_id  rideable_type           started_at             ended_at  \\\n",
       "0  BD0A6FF6FFF9B921  electric_bike  2020-11-01 13:36:00  2020-11-01 13:45:40   \n",
       "1  96A7A7A4BDE4F82D  electric_bike  2020-11-01 10:03:26  2020-11-01 10:14:45   \n",
       "2  C61526D06582BDC5  electric_bike  2020-11-01 00:34:05  2020-11-01 01:03:06   \n",
       "3  E533E89C32080B9E  electric_bike  2020-11-01 00:45:16  2020-11-01 00:54:31   \n",
       "4  1C9F4EF18C168C60  electric_bike  2020-11-01 15:43:25  2020-11-01 16:16:52   \n",
       "\n",
       "          start_station_name start_station_id          end_station_name  \\\n",
       "0      Dearborn St & Erie St         110.0000    St. Clair St & Erie St   \n",
       "1  Franklin St & Illinois St         672.0000  Noble St & Milwaukee Ave   \n",
       "2  Lake Shore Dr & Monroe St          76.0000      Federal St & Polk St   \n",
       "3   Leavitt St & Chicago Ave         659.0000   Stave St & Armitage Ave   \n",
       "4        Buckingham Fountain           2.0000       Buckingham Fountain   \n",
       "\n",
       "  end_station_id  start_lat  start_lng  end_lat  end_lng member_casual  \n",
       "0       211.0000    41.8942   -87.6291  41.8944 -87.6234        casual  \n",
       "1        29.0000    41.8910   -87.6353  41.9007 -87.6625        casual  \n",
       "2        41.0000    41.8810   -87.6168  41.8721 -87.6296        casual  \n",
       "3       185.0000    41.8955   -87.6820  41.9177 -87.6914        casual  \n",
       "4         2.0000    41.8765   -87.6204  41.8764 -87.6203        casual  "
      ]
     },
     "execution_count": 11,
     "metadata": {},
     "output_type": "execute_result"
    }
   ],
   "source": [
    "data.head()"
   ]
  },
  {
   "cell_type": "code",
   "execution_count": 12,
   "id": "f9fc2f39-a684-4183-9e70-4a256302bc7b",
   "metadata": {},
   "outputs": [
    {
     "data": {
      "text/html": [
       "<div>\n",
       "<style scoped>\n",
       "    .dataframe tbody tr th:only-of-type {\n",
       "        vertical-align: middle;\n",
       "    }\n",
       "\n",
       "    .dataframe tbody tr th {\n",
       "        vertical-align: top;\n",
       "    }\n",
       "\n",
       "    .dataframe thead th {\n",
       "        text-align: right;\n",
       "    }\n",
       "</style>\n",
       "<table border=\"1\" class=\"dataframe\">\n",
       "  <thead>\n",
       "    <tr style=\"text-align: right;\">\n",
       "      <th></th>\n",
       "      <th>ride_id</th>\n",
       "      <th>rideable_type</th>\n",
       "      <th>started_at</th>\n",
       "      <th>ended_at</th>\n",
       "      <th>start_station_name</th>\n",
       "      <th>start_station_id</th>\n",
       "      <th>end_station_name</th>\n",
       "      <th>end_station_id</th>\n",
       "      <th>start_lat</th>\n",
       "      <th>start_lng</th>\n",
       "      <th>end_lat</th>\n",
       "      <th>end_lng</th>\n",
       "      <th>member_casual</th>\n",
       "    </tr>\n",
       "  </thead>\n",
       "  <tbody>\n",
       "    <tr>\n",
       "      <th>26384903</th>\n",
       "      <td>EF56D7D1D612AC11</td>\n",
       "      <td>electric_bike</td>\n",
       "      <td>2021-05-20 16:32:14</td>\n",
       "      <td>2021-05-20 16:35:39</td>\n",
       "      <td>Blackstone Ave &amp; Hyde Park Blvd</td>\n",
       "      <td>13398</td>\n",
       "      <td>NaN</td>\n",
       "      <td>NaN</td>\n",
       "      <td>41.8026</td>\n",
       "      <td>-87.5902</td>\n",
       "      <td>41.8000</td>\n",
       "      <td>-87.6000</td>\n",
       "      <td>member</td>\n",
       "    </tr>\n",
       "    <tr>\n",
       "      <th>26384904</th>\n",
       "      <td>745191CB9F21DE3C</td>\n",
       "      <td>classic_bike</td>\n",
       "      <td>2021-05-29 16:40:37</td>\n",
       "      <td>2021-05-29 17:22:37</td>\n",
       "      <td>Sheridan Rd &amp; Montrose Ave</td>\n",
       "      <td>TA1307000107</td>\n",
       "      <td>Michigan Ave &amp; Oak St</td>\n",
       "      <td>13042</td>\n",
       "      <td>41.9617</td>\n",
       "      <td>-87.6546</td>\n",
       "      <td>41.9010</td>\n",
       "      <td>-87.6238</td>\n",
       "      <td>casual</td>\n",
       "    </tr>\n",
       "    <tr>\n",
       "      <th>26384905</th>\n",
       "      <td>428575BAA5356BFF</td>\n",
       "      <td>electric_bike</td>\n",
       "      <td>2021-05-31 14:24:54</td>\n",
       "      <td>2021-05-31 14:31:38</td>\n",
       "      <td>Sheridan Rd &amp; Montrose Ave</td>\n",
       "      <td>TA1307000107</td>\n",
       "      <td>NaN</td>\n",
       "      <td>NaN</td>\n",
       "      <td>41.9615</td>\n",
       "      <td>-87.6547</td>\n",
       "      <td>41.9500</td>\n",
       "      <td>-87.6500</td>\n",
       "      <td>member</td>\n",
       "    </tr>\n",
       "    <tr>\n",
       "      <th>26384906</th>\n",
       "      <td>FC8A4A7AB7249662</td>\n",
       "      <td>electric_bike</td>\n",
       "      <td>2021-05-25 16:01:33</td>\n",
       "      <td>2021-05-25 16:07:37</td>\n",
       "      <td>Sheridan Rd &amp; Montrose Ave</td>\n",
       "      <td>TA1307000107</td>\n",
       "      <td>NaN</td>\n",
       "      <td>NaN</td>\n",
       "      <td>41.9617</td>\n",
       "      <td>-87.6547</td>\n",
       "      <td>41.9800</td>\n",
       "      <td>-87.6600</td>\n",
       "      <td>member</td>\n",
       "    </tr>\n",
       "    <tr>\n",
       "      <th>26384907</th>\n",
       "      <td>E873B8AA3EE84678</td>\n",
       "      <td>docked_bike</td>\n",
       "      <td>2021-05-12 12:22:14</td>\n",
       "      <td>2021-05-12 12:30:27</td>\n",
       "      <td>Sheridan Rd &amp; Montrose Ave</td>\n",
       "      <td>TA1307000107</td>\n",
       "      <td>Clark St &amp; Grace St</td>\n",
       "      <td>TA1307000127</td>\n",
       "      <td>41.9617</td>\n",
       "      <td>-87.6546</td>\n",
       "      <td>41.9508</td>\n",
       "      <td>-87.6592</td>\n",
       "      <td>casual</td>\n",
       "    </tr>\n",
       "  </tbody>\n",
       "</table>\n",
       "</div>"
      ],
      "text/plain": [
       "                   ride_id  rideable_type           started_at  \\\n",
       "26384903  EF56D7D1D612AC11  electric_bike  2021-05-20 16:32:14   \n",
       "26384904  745191CB9F21DE3C   classic_bike  2021-05-29 16:40:37   \n",
       "26384905  428575BAA5356BFF  electric_bike  2021-05-31 14:24:54   \n",
       "26384906  FC8A4A7AB7249662  electric_bike  2021-05-25 16:01:33   \n",
       "26384907  E873B8AA3EE84678    docked_bike  2021-05-12 12:22:14   \n",
       "\n",
       "                     ended_at               start_station_name  \\\n",
       "26384903  2021-05-20 16:35:39  Blackstone Ave & Hyde Park Blvd   \n",
       "26384904  2021-05-29 17:22:37       Sheridan Rd & Montrose Ave   \n",
       "26384905  2021-05-31 14:31:38       Sheridan Rd & Montrose Ave   \n",
       "26384906  2021-05-25 16:07:37       Sheridan Rd & Montrose Ave   \n",
       "26384907  2021-05-12 12:30:27       Sheridan Rd & Montrose Ave   \n",
       "\n",
       "         start_station_id       end_station_name end_station_id  start_lat  \\\n",
       "26384903            13398                    NaN            NaN    41.8026   \n",
       "26384904     TA1307000107  Michigan Ave & Oak St          13042    41.9617   \n",
       "26384905     TA1307000107                    NaN            NaN    41.9615   \n",
       "26384906     TA1307000107                    NaN            NaN    41.9617   \n",
       "26384907     TA1307000107    Clark St & Grace St   TA1307000127    41.9617   \n",
       "\n",
       "          start_lng  end_lat  end_lng member_casual  \n",
       "26384903   -87.5902  41.8000 -87.6000        member  \n",
       "26384904   -87.6546  41.9010 -87.6238        casual  \n",
       "26384905   -87.6547  41.9500 -87.6500        member  \n",
       "26384906   -87.6547  41.9800 -87.6600        member  \n",
       "26384907   -87.6546  41.9508 -87.6592        casual  "
      ]
     },
     "execution_count": 12,
     "metadata": {},
     "output_type": "execute_result"
    }
   ],
   "source": [
    "data.tail()"
   ]
  },
  {
   "cell_type": "markdown",
   "id": "cf28a9d5-ff0e-4d07-a2e2-c04cb942386d",
   "metadata": {},
   "source": [
    "#### Check Data Types <a name='check-data-type'></a>"
   ]
  },
  {
   "cell_type": "code",
   "execution_count": 13,
   "id": "8b80b23c-e47d-4745-b97d-65971420c669",
   "metadata": {},
   "outputs": [
    {
     "name": "stdout",
     "output_type": "stream",
     "text": [
      "<class 'pandas.core.frame.DataFrame'>\n",
      "RangeIndex: 26384908 entries, 0 to 26384907\n",
      "Data columns (total 13 columns):\n",
      " #   Column              Dtype  \n",
      "---  ------              -----  \n",
      " 0   ride_id             object \n",
      " 1   rideable_type       object \n",
      " 2   started_at          object \n",
      " 3   ended_at            object \n",
      " 4   start_station_name  object \n",
      " 5   start_station_id    object \n",
      " 6   end_station_name    object \n",
      " 7   end_station_id      object \n",
      " 8   start_lat           float64\n",
      " 9   start_lng           float64\n",
      " 10  end_lat             float64\n",
      " 11  end_lng             float64\n",
      " 12  member_casual       object \n",
      "dtypes: float64(4), object(9)\n",
      "memory usage: 2.6+ GB\n"
     ]
    }
   ],
   "source": [
    "data.info()"
   ]
  },
  {
   "cell_type": "markdown",
   "id": "49f87ab0-9d97-4fd4-8a28-75812b766226",
   "metadata": {},
   "source": [
    "#### Check uniqueness of data <a name='check-uniqueness-data'></a>"
   ]
  },
  {
   "cell_type": "code",
   "execution_count": 14,
   "id": "2b07db0e-3aa1-4b90-af6e-9dae2fd12290",
   "metadata": {},
   "outputs": [
    {
     "data": {
      "text/plain": [
       "member_casual                  2\n",
       "rideable_type                  4\n",
       "start_station_name         2_302\n",
       "end_station_name           2_308\n",
       "start_station_id           2_501\n",
       "end_station_id             2_503\n",
       "end_lng                  460_643\n",
       "end_lat                  506_283\n",
       "start_lng              1_068_640\n",
       "start_lat              1_140_579\n",
       "started_at            22_985_964\n",
       "ended_at              22_994_930\n",
       "ride_id               26_384_488\n",
       "dtype: object"
      ]
     },
     "execution_count": 14,
     "metadata": {},
     "output_type": "execute_result"
    }
   ],
   "source": [
    "num_unique = data.nunique().sort_values()\n",
    "num_unique.map('{:_}'.format)"
   ]
  },
  {
   "cell_type": "code",
   "execution_count": 15,
   "id": "665d0259-fd81-4be1-aa38-42bbc3d582ac",
   "metadata": {},
   "outputs": [
    {
     "data": {
      "text/plain": [
       "420"
      ]
     },
     "execution_count": 15,
     "metadata": {},
     "output_type": "execute_result"
    }
   ],
   "source": [
    "data.shape[0] - num_unique['ride_id']"
   ]
  },
  {
   "cell_type": "markdown",
   "id": "7aeae311-7e98-4f9e-9d33-c9d39b464497",
   "metadata": {},
   "source": [
    "__Observations:__\n",
    "- Rows count is 22_929_303, but `ride_id` count is 22_928_883. Looks like there are 420 not unique `ride_id`. "
   ]
  },
  {
   "cell_type": "markdown",
   "id": "113380a3-f976-44a5-8f58-383a5c1dbd6f",
   "metadata": {},
   "source": [
    "<span style=\"color: blue;\">_# TODO: Analyze uniqueness of ride_id._</span>"
   ]
  },
  {
   "cell_type": "code",
   "execution_count": 16,
   "id": "138ccd60-a705-4a45-9c42-6a067276ae11",
   "metadata": {},
   "outputs": [
    {
     "name": "stdout",
     "output_type": "stream",
     "text": [
      "--- Percentage Similarity of Values (%) ---\n",
      "member_casual        50.0000\n",
      "rideable_type        25.0000\n",
      "start_station_name    0.0434\n",
      "end_station_name      0.0433\n",
      "start_station_id      0.0400\n",
      "end_station_id        0.0400\n",
      "end_lng               0.0002\n",
      "end_lat               0.0002\n",
      "start_lng             0.0001\n",
      "start_lat             0.0001\n",
      "started_at            0.0000\n",
      "ended_at              0.0000\n",
      "ride_id               0.0000\n",
      "dtype: float64\n"
     ]
    }
   ],
   "source": [
    "print('--- Percentage Similarity of Values (%) ---')\n",
    "print(100/num_unique)"
   ]
  },
  {
   "cell_type": "markdown",
   "id": "6ce84707-72ca-43da-9461-ff4cfaead7c5",
   "metadata": {},
   "source": [
    "__Observations__:\n",
    "\n",
    "+ `ride_id`, `rideable_type`, `started_at`, `ended_at`, `start_station_name`, `start_station_id`, `end_station_name`, `end_station_id`, `member_casual` are __string__\n",
    "+ `start_lat`, `start_lng`, `end_lat`, `end_lng` are __float__\n",
    "\n",
    "`started_at` and `ended_at` should be a __datatime__ type instead.\\\n",
    "`rideable_type` and `member_casual` should be __categorical__ type instead."
   ]
  },
  {
   "cell_type": "markdown",
   "id": "183817e3-942f-45f0-b202-e177ebf55060",
   "metadata": {},
   "source": [
    "<span style=\"color: blue;\">_# TODO: Convert started_at and ended_at to datatime._</span>\\\n",
    "<span style=\"color: blue;\">_# TODO: Convert rideable_type and member_casual to category._</span>"
   ]
  },
  {
   "cell_type": "markdown",
   "id": "7618421e-01d2-4f22-8cfd-b55b35a6913b",
   "metadata": {},
   "source": [
    "#### Check Missing Values <a name='check-missing-values'></a>"
   ]
  },
  {
   "cell_type": "code",
   "execution_count": 17,
   "id": "d73efd6b-f94e-4853-b4fe-911a0f27fe35",
   "metadata": {},
   "outputs": [
    {
     "data": {
      "text/plain": [
       "end_station_id        3_777_250\n",
       "end_station_name      3_776_648\n",
       "start_station_id      3_568_951\n",
       "start_station_name    3_568_196\n",
       "end_lat                  29_106\n",
       "end_lng                  29_106\n",
       "ride_id                       0\n",
       "rideable_type                 0\n",
       "started_at                    0\n",
       "ended_at                      0\n",
       "start_lat                     0\n",
       "start_lng                     0\n",
       "member_casual                 0\n",
       "dtype: object"
      ]
     },
     "execution_count": 17,
     "metadata": {},
     "output_type": "execute_result"
    }
   ],
   "source": [
    "missing_values = data.isna().sum().sort_values(ascending=False)\n",
    "missing_values.map('{:_}'.format)"
   ]
  },
  {
   "cell_type": "code",
   "execution_count": 18,
   "id": "99f07435-ba00-4a55-870b-5e10e099a8f4",
   "metadata": {},
   "outputs": [
    {
     "name": "stdout",
     "output_type": "stream",
     "text": [
      "--- Percentage of missing values (%) ---\n",
      "end_station_id       14.3159\n",
      "end_station_name     14.3137\n",
      "start_station_id     13.5265\n",
      "start_station_name   13.5236\n",
      "end_lat               0.1103\n",
      "end_lng               0.1103\n",
      "dtype: float64\n"
     ]
    }
   ],
   "source": [
    "missing_percentage = data.isna().mean().sort_values(ascending=False)\n",
    "print('--- Percentage of missing values (%) ---')\n",
    "if missing_percentage.sum():\n",
    "    print(missing_percentage[missing_percentage > 0] * 100)\n",
    "else:\n",
    "    print('There are NO missing values')"
   ]
  },
  {
   "cell_type": "markdown",
   "id": "3896f79f-2d30-4d71-8434-8e4ab63ed352",
   "metadata": {},
   "source": [
    "__Observations__:\n",
    "+ `end_station_id` has ~14% missing values in the column.\n",
    "+ `end_station_name` has ~14% missing values in the column.\n",
    "+ `start_station_id` has ~13.5% missing values in the column.\n",
    "+ `start_station_name` has ~13.5% missing values in the column.\n",
    "+ `end_lat` has ~0.1% missing values in the column.\n",
    "+ `end_lng` has ~0.1% missing values in the column."
   ]
  },
  {
   "cell_type": "markdown",
   "id": "233016fe-c69e-4652-b598-66050585fc17",
   "metadata": {},
   "source": [
    "<span style=\"color: blue;\">_# TODO: Handle missing values in end_station_id, end_station_name, start_station_id, start_station_name, end_lat, end_lng._</span>"
   ]
  },
  {
   "cell_type": "markdown",
   "id": "d05719c4-f7e0-4166-8351-030ed3ba44ae",
   "metadata": {},
   "source": [
    "#### Check for duplicated rows <a name='check-duplicated-rows'></a>"
   ]
  },
  {
   "cell_type": "code",
   "execution_count": 19,
   "id": "c69e7a1e-76dc-4760-90e5-b55a11acb698",
   "metadata": {},
   "outputs": [
    {
     "name": "stdout",
     "output_type": "stream",
     "text": [
      "No. of entirely duplicated rows: 0\n"
     ]
    }
   ],
   "source": [
    "print(f'No. of entirely duplicated rows: {data.duplicated().sum()}')"
   ]
  },
  {
   "cell_type": "markdown",
   "id": "124140cb-efe4-4940-b125-44806fe520d3",
   "metadata": {},
   "source": [
    "### Store the Data"
   ]
  },
  {
   "cell_type": "code",
   "execution_count": 20,
   "id": "745cfd28-86f6-4b4c-93da-4607f961826d",
   "metadata": {},
   "outputs": [
    {
     "name": "stdout",
     "output_type": "stream",
     "text": [
      "Stored 'data_divvy' (DataFrame)\n"
     ]
    }
   ],
   "source": [
    "data_divvy = data\n",
    "\n",
    "# store the data\n",
    "%store data_divvy"
   ]
  },
  {
   "cell_type": "code",
   "execution_count": 21,
   "id": "f439a3ca-abf5-49bb-a55c-3eb7db04936a",
   "metadata": {},
   "outputs": [],
   "source": [
    "%load_ext watermark"
   ]
  },
  {
   "cell_type": "code",
   "execution_count": 22,
   "id": "a4c6880e-55b4-4589-b798-fdf3931c3359",
   "metadata": {},
   "outputs": [
    {
     "name": "stdout",
     "output_type": "stream",
     "text": [
      "Python implementation: CPython\n",
      "Python version       : 3.12.4\n",
      "IPython version      : 8.26.0\n",
      "\n",
      "numpy      : 1.26.4\n",
      "pandas     : 2.2.2\n",
      "matplotlib : 3.9.1\n",
      "seaborn    : 0.13.2\n",
      "sklearn    : 1.5.1\n",
      "statsmodels: 0.14.2\n",
      "\n"
     ]
    }
   ],
   "source": [
    "%watermark -d -t -v -p numpy,pandas,matplotlib,seaborn,sklearn,statsmodels"
   ]
  },
  {
   "cell_type": "markdown",
   "id": "bbbbbd54-a233-4663-9b44-a4e62a174cfa",
   "metadata": {},
   "source": [
    "\n",
    "---\n",
    "\\\n",
    "[__Home__](../README.md) | [__Data Cleaning >>__](./02_Divvy_data_cleaning.ipynb)\n",
    "\\\n",
    "\\\n",
    "Divvy: Bike Sharing Forecast, _March 2025_"
   ]
  }
 ],
 "metadata": {
  "celltoolbar": "Attachments",
  "kernelspec": {
   "display_name": "Python 3 (ipykernel)",
   "language": "python",
   "name": "python3"
  },
  "language_info": {
   "codemirror_mode": {
    "name": "ipython",
    "version": 3
   },
   "file_extension": ".py",
   "mimetype": "text/x-python",
   "name": "python",
   "nbconvert_exporter": "python",
   "pygments_lexer": "ipython3",
   "version": "3.12.4"
  }
 },
 "nbformat": 4,
 "nbformat_minor": 5
}
